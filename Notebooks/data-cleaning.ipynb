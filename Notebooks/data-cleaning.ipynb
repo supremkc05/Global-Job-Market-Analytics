{
 "cells": [
  {
   "cell_type": "code",
   "execution_count": 1,
   "id": "dcfb3ef6",
   "metadata": {},
   "outputs": [],
   "source": [
    "import pandas as pd\n",
    "import numpy as np\n",
    "import matplotlib.pyplot as plt\n",
    "import seaborn as sns"
   ]
  },
  {
   "cell_type": "code",
   "execution_count": 2,
   "id": "3fe7f6b8",
   "metadata": {},
   "outputs": [],
   "source": [
    "df = pd.read_csv('../Data/indeed-job-listings.csv')"
   ]
  },
  {
   "cell_type": "code",
   "execution_count": 3,
   "id": "6c1dcc73",
   "metadata": {},
   "outputs": [
    {
     "data": {
      "text/html": [
       "<div>\n",
       "<style scoped>\n",
       "    .dataframe tbody tr th:only-of-type {\n",
       "        vertical-align: middle;\n",
       "    }\n",
       "\n",
       "    .dataframe tbody tr th {\n",
       "        vertical-align: top;\n",
       "    }\n",
       "\n",
       "    .dataframe thead th {\n",
       "        text-align: right;\n",
       "    }\n",
       "</style>\n",
       "<table border=\"1\" class=\"dataframe\">\n",
       "  <thead>\n",
       "    <tr style=\"text-align: right;\">\n",
       "      <th></th>\n",
       "      <th>body</th>\n",
       "      <th>city</th>\n",
       "      <th>company</th>\n",
       "      <th>country</th>\n",
       "      <th>expired</th>\n",
       "      <th>index_url</th>\n",
       "      <th>job_title</th>\n",
       "      <th>listing_url</th>\n",
       "      <th>location</th>\n",
       "      <th>post_date</th>\n",
       "      <th>state</th>\n",
       "      <th>status_code</th>\n",
       "      <th>summary</th>\n",
       "      <th>views</th>\n",
       "    </tr>\n",
       "  </thead>\n",
       "  <tbody>\n",
       "    <tr>\n",
       "      <th>0</th>\n",
       "      <td>World Wildlife Fund (WWF), the worldâs leadi...</td>\n",
       "      <td>Washington</td>\n",
       "      <td>World Wildlife Fund</td>\n",
       "      <td>US</td>\n",
       "      <td>False</td>\n",
       "      <td>http://api.indeed.com/ads/apisearch?publisher=...</td>\n",
       "      <td>IN-16092 Conservation Data Analysis Intern</td>\n",
       "      <td>http://www.indeed.com/viewjob?jk=7e8fe74842451...</td>\n",
       "      <td>Washington, DC US</td>\n",
       "      <td>Mon, 25 Apr 2016 21:36:16 GMT</td>\n",
       "      <td>DC</td>\n",
       "      <td>200</td>\n",
       "      <td>Data management, including updating database m...</td>\n",
       "      <td>17.0</td>\n",
       "    </tr>\n",
       "    <tr>\n",
       "      <th>1</th>\n",
       "      <td>Job Description\\n\\nThe Weather Company, an IBM...</td>\n",
       "      <td>Boston</td>\n",
       "      <td>IBM</td>\n",
       "      <td>US</td>\n",
       "      <td>False</td>\n",
       "      <td>http://api.indeed.com/ads/apisearch?publisher=...</td>\n",
       "      <td>Data Science Analyst for The Weather Company</td>\n",
       "      <td>http://www.indeed.com/viewjob?jk=4332542420d6b...</td>\n",
       "      <td>Boston, MA US</td>\n",
       "      <td>Thu, 03 Mar 2016 04:06:28 GMT</td>\n",
       "      <td>MA</td>\n",
       "      <td>200</td>\n",
       "      <td>Provide expertise in data acquisition, data qu...</td>\n",
       "      <td>10735.0</td>\n",
       "    </tr>\n",
       "    <tr>\n",
       "      <th>2</th>\n",
       "      <td>Job Number: 01203341\\n\\n\\nDescription\\n\\n\\nSo ...</td>\n",
       "      <td>Washington</td>\n",
       "      <td>Booz Allen Hamilton</td>\n",
       "      <td>US</td>\n",
       "      <td>False</td>\n",
       "      <td>http://api.indeed.com/ads/apisearch?publisher=...</td>\n",
       "      <td>Data Scientist</td>\n",
       "      <td>http://www.indeed.com/viewjob?jk=5df3246825de1...</td>\n",
       "      <td>Washington, DC US</td>\n",
       "      <td>Fri, 15 Apr 2016 07:31:57 GMT</td>\n",
       "      <td>DC</td>\n",
       "      <td>200</td>\n",
       "      <td>Our Data Science team:. Experience in working ...</td>\n",
       "      <td>863.0</td>\n",
       "    </tr>\n",
       "    <tr>\n",
       "      <th>3</th>\n",
       "      <td>everis is a multinational consulting firm prov...</td>\n",
       "      <td>Washington</td>\n",
       "      <td>Everis USA</td>\n",
       "      <td>US</td>\n",
       "      <td>False</td>\n",
       "      <td>http://api.indeed.com/ads/apisearch?publisher=...</td>\n",
       "      <td>Healthcare Data Analyst</td>\n",
       "      <td>http://www.indeed.com/viewjob?jk=ba266f8cb3fa7...</td>\n",
       "      <td>Washington, DC US</td>\n",
       "      <td>Mon, 25 Apr 2016 19:56:40 GMT</td>\n",
       "      <td>DC</td>\n",
       "      <td>200</td>\n",
       "      <td>The Healthcare Data Analyst understands health...</td>\n",
       "      <td>10.0</td>\n",
       "    </tr>\n",
       "    <tr>\n",
       "      <th>4</th>\n",
       "      <td>CHASE Professionals is currently representing ...</td>\n",
       "      <td>Duluth</td>\n",
       "      <td>CHASE Professionals</td>\n",
       "      <td>US</td>\n",
       "      <td>False</td>\n",
       "      <td>http://api.indeed.com/ads/apisearch?publisher=...</td>\n",
       "      <td>Sr. Data Scientist</td>\n",
       "      <td>http://www.indeed.com/viewjob?jk=fd9df86861b6e...</td>\n",
       "      <td>Duluth, GA US</td>\n",
       "      <td>Mon, 25 Apr 2016 14:28:26 GMT</td>\n",
       "      <td>GA</td>\n",
       "      <td>200</td>\n",
       "      <td>Strong understanding of algorithms and advance...</td>\n",
       "      <td>147.0</td>\n",
       "    </tr>\n",
       "  </tbody>\n",
       "</table>\n",
       "</div>"
      ],
      "text/plain": [
       "                                                body        city  \\\n",
       "0  World Wildlife Fund (WWF), the worldâs leadi...  Washington   \n",
       "1  Job Description\\n\\nThe Weather Company, an IBM...      Boston   \n",
       "2  Job Number: 01203341\\n\\n\\nDescription\\n\\n\\nSo ...  Washington   \n",
       "3  everis is a multinational consulting firm prov...  Washington   \n",
       "4  CHASE Professionals is currently representing ...      Duluth   \n",
       "\n",
       "               company country  expired  \\\n",
       "0  World Wildlife Fund      US    False   \n",
       "1                  IBM      US    False   \n",
       "2  Booz Allen Hamilton      US    False   \n",
       "3           Everis USA      US    False   \n",
       "4  CHASE Professionals      US    False   \n",
       "\n",
       "                                           index_url  \\\n",
       "0  http://api.indeed.com/ads/apisearch?publisher=...   \n",
       "1  http://api.indeed.com/ads/apisearch?publisher=...   \n",
       "2  http://api.indeed.com/ads/apisearch?publisher=...   \n",
       "3  http://api.indeed.com/ads/apisearch?publisher=...   \n",
       "4  http://api.indeed.com/ads/apisearch?publisher=...   \n",
       "\n",
       "                                      job_title  \\\n",
       "0    IN-16092 Conservation Data Analysis Intern   \n",
       "1  Data Science Analyst for The Weather Company   \n",
       "2                                Data Scientist   \n",
       "3                       Healthcare Data Analyst   \n",
       "4                            Sr. Data Scientist   \n",
       "\n",
       "                                         listing_url           location  \\\n",
       "0  http://www.indeed.com/viewjob?jk=7e8fe74842451...  Washington, DC US   \n",
       "1  http://www.indeed.com/viewjob?jk=4332542420d6b...      Boston, MA US   \n",
       "2  http://www.indeed.com/viewjob?jk=5df3246825de1...  Washington, DC US   \n",
       "3  http://www.indeed.com/viewjob?jk=ba266f8cb3fa7...  Washington, DC US   \n",
       "4  http://www.indeed.com/viewjob?jk=fd9df86861b6e...      Duluth, GA US   \n",
       "\n",
       "                       post_date state  status_code  \\\n",
       "0  Mon, 25 Apr 2016 21:36:16 GMT    DC          200   \n",
       "1  Thu, 03 Mar 2016 04:06:28 GMT    MA          200   \n",
       "2  Fri, 15 Apr 2016 07:31:57 GMT    DC          200   \n",
       "3  Mon, 25 Apr 2016 19:56:40 GMT    DC          200   \n",
       "4  Mon, 25 Apr 2016 14:28:26 GMT    GA          200   \n",
       "\n",
       "                                             summary    views  \n",
       "0  Data management, including updating database m...     17.0  \n",
       "1  Provide expertise in data acquisition, data qu...  10735.0  \n",
       "2  Our Data Science team:. Experience in working ...    863.0  \n",
       "3  The Healthcare Data Analyst understands health...     10.0  \n",
       "4  Strong understanding of algorithms and advance...    147.0  "
      ]
     },
     "execution_count": 3,
     "metadata": {},
     "output_type": "execute_result"
    }
   ],
   "source": [
    "df.head(5)"
   ]
  },
  {
   "cell_type": "code",
   "execution_count": 4,
   "id": "35a345d1",
   "metadata": {},
   "outputs": [
    {
     "data": {
      "text/plain": [
       "Index(['body', 'city', 'company', 'country', 'expired', 'index_url',\n",
       "       'job_title', 'listing_url', 'location', 'post_date', 'state',\n",
       "       'status_code', 'summary', 'views'],\n",
       "      dtype='object')"
      ]
     },
     "execution_count": 4,
     "metadata": {},
     "output_type": "execute_result"
    }
   ],
   "source": [
    "df.columns"
   ]
  },
  {
   "cell_type": "code",
   "execution_count": 5,
   "id": "0e9993e9",
   "metadata": {},
   "outputs": [
    {
     "data": {
      "text/plain": [
       "body            0\n",
       "city            0\n",
       "company         0\n",
       "country         0\n",
       "expired         0\n",
       "index_url       0\n",
       "job_title       0\n",
       "listing_url     0\n",
       "location        0\n",
       "post_date       0\n",
       "state           0\n",
       "status_code     0\n",
       "summary         0\n",
       "views          17\n",
       "dtype: int64"
      ]
     },
     "execution_count": 5,
     "metadata": {},
     "output_type": "execute_result"
    }
   ],
   "source": [
    "df.isna().sum()"
   ]
  },
  {
   "cell_type": "code",
   "execution_count": 6,
   "id": "2f37ec2c",
   "metadata": {},
   "outputs": [
    {
     "name": "stdout",
     "output_type": "stream",
     "text": [
      "<class 'pandas.core.frame.DataFrame'>\n",
      "RangeIndex: 100 entries, 0 to 99\n",
      "Data columns (total 14 columns):\n",
      " #   Column       Non-Null Count  Dtype  \n",
      "---  ------       --------------  -----  \n",
      " 0   body         100 non-null    object \n",
      " 1   city         100 non-null    object \n",
      " 2   company      100 non-null    object \n",
      " 3   country      100 non-null    object \n",
      " 4   expired      100 non-null    bool   \n",
      " 5   index_url    100 non-null    object \n",
      " 6   job_title    100 non-null    object \n",
      " 7   listing_url  100 non-null    object \n",
      " 8   location     100 non-null    object \n",
      " 9   post_date    100 non-null    object \n",
      " 10  state        100 non-null    object \n",
      " 11  status_code  100 non-null    int64  \n",
      " 12  summary      100 non-null    object \n",
      " 13  views        83 non-null     float64\n",
      "dtypes: bool(1), float64(1), int64(1), object(11)\n",
      "memory usage: 10.4+ KB\n"
     ]
    }
   ],
   "source": [
    "df.info()"
   ]
  },
  {
   "cell_type": "code",
   "execution_count": 7,
   "id": "7df06a0f",
   "metadata": {},
   "outputs": [],
   "source": [
    "df['views'].value_counts()\n",
    "df['views'] = df['views'].fillna(0).astype(int)"
   ]
  },
  {
   "cell_type": "code",
   "execution_count": 8,
   "id": "9f42d2fd",
   "metadata": {},
   "outputs": [],
   "source": [
    "#missing value with mean \n",
    "df['views'] =df['views'].fillna(df['views'].mean())"
   ]
  },
  {
   "cell_type": "code",
   "execution_count": 9,
   "id": "f7d96d62",
   "metadata": {},
   "outputs": [
    {
     "data": {
      "text/plain": [
       "body           0\n",
       "city           0\n",
       "company        0\n",
       "country        0\n",
       "expired        0\n",
       "index_url      0\n",
       "job_title      0\n",
       "listing_url    0\n",
       "location       0\n",
       "post_date      0\n",
       "state          0\n",
       "status_code    0\n",
       "summary        0\n",
       "views          0\n",
       "dtype: int64"
      ]
     },
     "execution_count": 9,
     "metadata": {},
     "output_type": "execute_result"
    }
   ],
   "source": [
    "df.isna().sum()"
   ]
  },
  {
   "cell_type": "code",
   "execution_count": 10,
   "id": "449b6fb2",
   "metadata": {},
   "outputs": [
    {
     "data": {
      "text/plain": [
       "location\n",
       "Washington, DC US             23\n",
       "New York, NY US                7\n",
       "Arlington, VA US               6\n",
       "Springfield, VA US             5\n",
       "McLean, VA US                  4\n",
       "Alexandria, VA US              3\n",
       "Austin, TX US                  3\n",
       "Annapolis Junction, MD US      3\n",
       "San Jose, CA US                2\n",
       "Phoenix, AZ US                 2\n",
       "Philadelphia, PA US            2\n",
       "Falls Church, VA US            2\n",
       "Fort George G Meade, MD US     2\n",
       "Greenbelt, MD US               2\n",
       "San Antonio, TX US             2\n",
       "Chicago, IL US                 2\n",
       "Tampa, FL US                   1\n",
       "Duluth, GA US                  1\n",
       "Boston, MA US                  1\n",
       "Reston, VA US                  1\n",
       "Fairfax, VA US                 1\n",
       "College Park, MD US            1\n",
       "Golden, CO US                  1\n",
       "Glendale, CA US                1\n",
       "Kannapolis, NC US              1\n",
       "San Diego, CA US               1\n",
       "Columbus, IN US                1\n",
       "Wilmington, DE US              1\n",
       "Folsom, CA US                  1\n",
       "Fort Worth, TX US              1\n",
       "Landover, MD US                1\n",
       "Hoffman Estates, IL US         1\n",
       "Atlanta, GA US                 1\n",
       "Culver City, CA US             1\n",
       "San Francisco, CA US           1\n",
       "Irvine, CA US                  1\n",
       "Denver, CO US                  1\n",
       "Tampa Bay, FL US               1\n",
       "Los Angeles, CA US             1\n",
       "Brooklyn, NY US                1\n",
       "Baltimore, MD US               1\n",
       "Durham, NC US                  1\n",
       "Chantilly, VA US               1\n",
       "Seattle, WA US                 1\n",
       "Dunwoody, GA US                1\n",
       "Herndon, VA US                 1\n",
       "Name: count, dtype: int64"
      ]
     },
     "execution_count": 10,
     "metadata": {},
     "output_type": "execute_result"
    }
   ],
   "source": [
    "df['location'].value_counts()"
   ]
  },
  {
   "cell_type": "code",
   "execution_count": 16,
   "id": "d7c249f1",
   "metadata": {},
   "outputs": [
    {
     "name": "stdout",
     "output_type": "stream",
     "text": [
      "['Washington, DC US']\n"
     ]
    }
   ],
   "source": [
    "location_with_high_jobs = df['location'].value_counts().head(1).index.values\n",
    "print(location_with_high_jobs)"
   ]
  },
  {
   "cell_type": "code",
   "execution_count": 11,
   "id": "b3baa168",
   "metadata": {},
   "outputs": [
    {
     "data": {
      "text/plain": [
       "Index(['body', 'city', 'company', 'country', 'expired', 'index_url',\n",
       "       'job_title', 'listing_url', 'location', 'post_date', 'state',\n",
       "       'status_code', 'summary', 'views'],\n",
       "      dtype='object')"
      ]
     },
     "execution_count": 11,
     "metadata": {},
     "output_type": "execute_result"
    }
   ],
   "source": [
    "df.columns"
   ]
  },
  {
   "cell_type": "code",
   "execution_count": 12,
   "id": "fcca8fb6",
   "metadata": {},
   "outputs": [
    {
     "data": {
      "text/plain": [
       "state\n",
       "VA    24\n",
       "DC    23\n",
       "MD    10\n",
       "CA     9\n",
       "NY     8\n",
       "TX     6\n",
       "GA     3\n",
       "IL     3\n",
       "FL     2\n",
       "PA     2\n",
       "AZ     2\n",
       "NC     2\n",
       "CO     2\n",
       "MA     1\n",
       "IN     1\n",
       "DE     1\n",
       "WA     1\n",
       "Name: count, dtype: int64"
      ]
     },
     "execution_count": 12,
     "metadata": {},
     "output_type": "execute_result"
    }
   ],
   "source": [
    "df['state'].value_counts()"
   ]
  },
  {
   "cell_type": "code",
   "execution_count": 17,
   "id": "b955cba4",
   "metadata": {},
   "outputs": [
    {
     "data": {
      "text/plain": [
       "company\n",
       "Booz Allen Hamilton                               5\n",
       "U.S. Federal Government                           3\n",
       "KPMG                                              3\n",
       "National Security Agency                          2\n",
       "World Wildlife Fund                               2\n",
       "                                                 ..\n",
       "State Farm Mutual Automobile Insurance Company    1\n",
       "CSC                                               1\n",
       "Qphase Technologies                               1\n",
       "Hobsons                                           1\n",
       "Department Of Veterans Affairs                    1\n",
       "Name: count, Length: 77, dtype: int64"
      ]
     },
     "execution_count": 17,
     "metadata": {},
     "output_type": "execute_result"
    }
   ],
   "source": [
    "df['company'].value_counts()"
   ]
  },
  {
   "cell_type": "code",
   "execution_count": 19,
   "id": "4fc94d13",
   "metadata": {},
   "outputs": [
    {
     "name": "stdout",
     "output_type": "stream",
     "text": [
      "Booz Allen Hamilton\n"
     ]
    }
   ],
   "source": [
    "company_who_posted_most_jobs = df['company'].mode()[0]\n",
    "print(company_who_posted_most_jobs)"
   ]
  },
  {
   "cell_type": "code",
   "execution_count": 20,
   "id": "7c4bee95",
   "metadata": {},
   "outputs": [
    {
     "name": "stdout",
     "output_type": "stream",
     "text": [
      "Booz Allen Hamilton\n"
     ]
    }
   ],
   "source": [
    "company_who_posted_most_jobs = df['company'].value_counts().idxmax()\n",
    "print(company_who_posted_most_jobs)"
   ]
  },
  {
   "cell_type": "code",
   "execution_count": 24,
   "id": "127115b6",
   "metadata": {},
   "outputs": [
    {
     "data": {
      "text/plain": [
       "job_title\n",
       "Data Scientist                                                     31\n",
       "Data Science Intern                                                 6\n",
       "Data Analyst                                                        5\n",
       "Data Analyst - Data Science Office                                  2\n",
       "Science Education Administrator (Program Director)                  2\n",
       "Associate All-Source Geospatial Data Scientist                      2\n",
       "IN-16093 Conservation Data Visualization Intern                     1\n",
       "Sr. Data Scientist                                                  1\n",
       "Data Science Analyst for The Weather Company                        1\n",
       "IN-16092 Conservation Data Analysis Intern                          1\n",
       "Statistical Data Analyst                                            1\n",
       "Data Science Summer Intern                                          1\n",
       "Data Scientist/Analyst                                              1\n",
       "Data Scientist - Entry Level                                        1\n",
       "Applied Machine Learning Job                                        1\n",
       "Analytics Manager                                                   1\n",
       "Health Data Scientist, Junior                                       1\n",
       "Machine Learning and Data Analytics Research Researcher             1\n",
       "Manager, Reporting & Analytics                                      1\n",
       "DATA SCIENTIST                                                      1\n",
       "Data Science Assurance Manager                                      1\n",
       "Data Scientist, Mid                                                 1\n",
       "Sr. Machine Learning Data Scientist                                 1\n",
       "Advanced Analytics Manager - Respiratory                            1\n",
       "Assistant/Associate Professor (SEAS)                                1\n",
       "Healthcare Data Analyst                                             1\n",
       "Data Science Analyst (Intern)                                       1\n",
       "Data Scientist / BI Developer                                       1\n",
       "Advanced Analytics Lead Data Scientist                              1\n",
       "Data Science Analyst Intern                                         1\n",
       "Manager, Data Science                                               1\n",
       "Computational Data Science Research Specialist                      1\n",
       "Data Analyst (active federal government clearance)                  1\n",
       "Data Scientist - Real Time Data                                     1\n",
       "Junior Developer | Data Scientist                                   1\n",
       "Analyst, Workforce Analytics                                        1\n",
       "Student Intern/Co-Op                                                1\n",
       "Data Operations Coordinator                                         1\n",
       "Decision Science Analyst-Lead                                       1\n",
       "Decision Science Analyst                                            1\n",
       "Business Analyst Intern                                             1\n",
       "Biologist                                                           1\n",
       "Data Engineer (Streaming Analytics, CEP)                            1\n",
       "GD094 Science Data Integrator/Engineer                              1\n",
       "GEOINT Analyst (Data Science)                                       1\n",
       "AVP, Lead Data Scientist (L11)                                      1\n",
       "Immediate Interview------------Oracle DBA                           1\n",
       "Research Physical Scientist, AST, Earth Sciences Remote Sensing     1\n",
       "Intern, Workforce Analytics                                         1\n",
       "Research Associate - R and D Data Scientist                         1\n",
       "data scientist, Business Strategy - Seattle, WA                     1\n",
       "Data Scientist Support (Big Data Developer or Data Designer)        1\n",
       "Cloud Data Science Developer, Mid                                   1\n",
       "Big Data Hadoop Performance Engineer                                1\n",
       "Big Data Developer-Full Time                                        1\n",
       "GEOINT Analyst (Geospatial Data Stewardship)                        1\n",
       "Data Science Engineer (New Grad)                                    1\n",
       "Technology Transfer Specialist                                      1\n",
       "Name: count, dtype: int64"
      ]
     },
     "execution_count": 24,
     "metadata": {},
     "output_type": "execute_result"
    }
   ],
   "source": [
    "df['job_title'].value_counts()"
   ]
  },
  {
   "cell_type": "code",
   "execution_count": 26,
   "id": "ee073923",
   "metadata": {},
   "outputs": [
    {
     "data": {
      "text/plain": [
       "job_title_standardized\n",
       "Data Scientist               48\n",
       "Other                        20\n",
       "Data Science Intern          11\n",
       "Data Analyst                 10\n",
       "Analytics Manager             5\n",
       "Data Engineer                 4\n",
       "Machine Learning Engineer     2\n",
       "Name: count, dtype: int64"
      ]
     },
     "execution_count": 26,
     "metadata": {},
     "output_type": "execute_result"
    }
   ],
   "source": [
    "def standardize_job_title(title):\n",
    "    title = str(title).lower().strip()\n",
    "    \n",
    "    if 'data scientist' in title:\n",
    "        return 'Data Scientist'\n",
    "    elif 'data analyst' in title:\n",
    "        return 'Data Analyst'\n",
    "    elif 'intern' in title and 'data' in title:\n",
    "        return 'Data Science Intern'\n",
    "    elif 'machine learning' in title:\n",
    "        return 'Machine Learning Engineer'\n",
    "    elif 'manager' in title and ('analytics' in title or 'data' in title):\n",
    "        return 'Analytics Manager'\n",
    "    elif 'engineer' in title and 'data' in title:\n",
    "        return 'Data Engineer'\n",
    "    else:\n",
    "        return 'Other'\n",
    "\n",
    "df['job_title_standardized'] = df['job_title'].apply(standardize_job_title)\n",
    "df['job_title_standardized'].value_counts()"
   ]
  },
  {
   "cell_type": "code",
   "execution_count": null,
   "id": "0e978f52",
   "metadata": {},
   "outputs": [],
   "source": []
  }
 ],
 "metadata": {
  "kernelspec": {
   "display_name": ".venv",
   "language": "python",
   "name": "python3"
  },
  "language_info": {
   "codemirror_mode": {
    "name": "ipython",
    "version": 3
   },
   "file_extension": ".py",
   "mimetype": "text/x-python",
   "name": "python",
   "nbconvert_exporter": "python",
   "pygments_lexer": "ipython3",
   "version": "3.13.1"
  }
 },
 "nbformat": 4,
 "nbformat_minor": 5
}
