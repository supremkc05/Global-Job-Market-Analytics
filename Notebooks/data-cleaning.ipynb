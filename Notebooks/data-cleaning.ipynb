{
 "cells": [
  {
   "cell_type": "code",
   "execution_count": 1,
   "id": "dcfb3ef6",
   "metadata": {},
   "outputs": [],
   "source": [
    "import pandas as pd\n",
    "import numpy as np\n",
    "import matplotlib.pyplot as plt\n",
    "import seaborn as sns"
   ]
  },
  {
   "cell_type": "code",
   "execution_count": 2,
   "id": "3fe7f6b8",
   "metadata": {},
   "outputs": [],
   "source": [
    "df = pd.read_csv('../Data/indeed-job-listings.csv')"
   ]
  },
  {
   "cell_type": "code",
   "execution_count": 3,
   "id": "6c1dcc73",
   "metadata": {},
   "outputs": [
    {
     "data": {
      "text/html": [
       "<div>\n",
       "<style scoped>\n",
       "    .dataframe tbody tr th:only-of-type {\n",
       "        vertical-align: middle;\n",
       "    }\n",
       "\n",
       "    .dataframe tbody tr th {\n",
       "        vertical-align: top;\n",
       "    }\n",
       "\n",
       "    .dataframe thead th {\n",
       "        text-align: right;\n",
       "    }\n",
       "</style>\n",
       "<table border=\"1\" class=\"dataframe\">\n",
       "  <thead>\n",
       "    <tr style=\"text-align: right;\">\n",
       "      <th></th>\n",
       "      <th>body</th>\n",
       "      <th>city</th>\n",
       "      <th>company</th>\n",
       "      <th>country</th>\n",
       "      <th>expired</th>\n",
       "      <th>index_url</th>\n",
       "      <th>job_title</th>\n",
       "      <th>listing_url</th>\n",
       "      <th>location</th>\n",
       "      <th>post_date</th>\n",
       "      <th>state</th>\n",
       "      <th>status_code</th>\n",
       "      <th>summary</th>\n",
       "      <th>views</th>\n",
       "    </tr>\n",
       "  </thead>\n",
       "  <tbody>\n",
       "    <tr>\n",
       "      <th>0</th>\n",
       "      <td>World Wildlife Fund (WWF), the worldâs leadi...</td>\n",
       "      <td>Washington</td>\n",
       "      <td>World Wildlife Fund</td>\n",
       "      <td>US</td>\n",
       "      <td>False</td>\n",
       "      <td>http://api.indeed.com/ads/apisearch?publisher=...</td>\n",
       "      <td>IN-16092 Conservation Data Analysis Intern</td>\n",
       "      <td>http://www.indeed.com/viewjob?jk=7e8fe74842451...</td>\n",
       "      <td>Washington, DC US</td>\n",
       "      <td>Mon, 25 Apr 2016 21:36:16 GMT</td>\n",
       "      <td>DC</td>\n",
       "      <td>200</td>\n",
       "      <td>Data management, including updating database m...</td>\n",
       "      <td>17.0</td>\n",
       "    </tr>\n",
       "    <tr>\n",
       "      <th>1</th>\n",
       "      <td>Job Description\\n\\nThe Weather Company, an IBM...</td>\n",
       "      <td>Boston</td>\n",
       "      <td>IBM</td>\n",
       "      <td>US</td>\n",
       "      <td>False</td>\n",
       "      <td>http://api.indeed.com/ads/apisearch?publisher=...</td>\n",
       "      <td>Data Science Analyst for The Weather Company</td>\n",
       "      <td>http://www.indeed.com/viewjob?jk=4332542420d6b...</td>\n",
       "      <td>Boston, MA US</td>\n",
       "      <td>Thu, 03 Mar 2016 04:06:28 GMT</td>\n",
       "      <td>MA</td>\n",
       "      <td>200</td>\n",
       "      <td>Provide expertise in data acquisition, data qu...</td>\n",
       "      <td>10735.0</td>\n",
       "    </tr>\n",
       "    <tr>\n",
       "      <th>2</th>\n",
       "      <td>Job Number: 01203341\\n\\n\\nDescription\\n\\n\\nSo ...</td>\n",
       "      <td>Washington</td>\n",
       "      <td>Booz Allen Hamilton</td>\n",
       "      <td>US</td>\n",
       "      <td>False</td>\n",
       "      <td>http://api.indeed.com/ads/apisearch?publisher=...</td>\n",
       "      <td>Data Scientist</td>\n",
       "      <td>http://www.indeed.com/viewjob?jk=5df3246825de1...</td>\n",
       "      <td>Washington, DC US</td>\n",
       "      <td>Fri, 15 Apr 2016 07:31:57 GMT</td>\n",
       "      <td>DC</td>\n",
       "      <td>200</td>\n",
       "      <td>Our Data Science team:. Experience in working ...</td>\n",
       "      <td>863.0</td>\n",
       "    </tr>\n",
       "    <tr>\n",
       "      <th>3</th>\n",
       "      <td>everis is a multinational consulting firm prov...</td>\n",
       "      <td>Washington</td>\n",
       "      <td>Everis USA</td>\n",
       "      <td>US</td>\n",
       "      <td>False</td>\n",
       "      <td>http://api.indeed.com/ads/apisearch?publisher=...</td>\n",
       "      <td>Healthcare Data Analyst</td>\n",
       "      <td>http://www.indeed.com/viewjob?jk=ba266f8cb3fa7...</td>\n",
       "      <td>Washington, DC US</td>\n",
       "      <td>Mon, 25 Apr 2016 19:56:40 GMT</td>\n",
       "      <td>DC</td>\n",
       "      <td>200</td>\n",
       "      <td>The Healthcare Data Analyst understands health...</td>\n",
       "      <td>10.0</td>\n",
       "    </tr>\n",
       "    <tr>\n",
       "      <th>4</th>\n",
       "      <td>CHASE Professionals is currently representing ...</td>\n",
       "      <td>Duluth</td>\n",
       "      <td>CHASE Professionals</td>\n",
       "      <td>US</td>\n",
       "      <td>False</td>\n",
       "      <td>http://api.indeed.com/ads/apisearch?publisher=...</td>\n",
       "      <td>Sr. Data Scientist</td>\n",
       "      <td>http://www.indeed.com/viewjob?jk=fd9df86861b6e...</td>\n",
       "      <td>Duluth, GA US</td>\n",
       "      <td>Mon, 25 Apr 2016 14:28:26 GMT</td>\n",
       "      <td>GA</td>\n",
       "      <td>200</td>\n",
       "      <td>Strong understanding of algorithms and advance...</td>\n",
       "      <td>147.0</td>\n",
       "    </tr>\n",
       "  </tbody>\n",
       "</table>\n",
       "</div>"
      ],
      "text/plain": [
       "                                                body        city  \\\n",
       "0  World Wildlife Fund (WWF), the worldâs leadi...  Washington   \n",
       "1  Job Description\\n\\nThe Weather Company, an IBM...      Boston   \n",
       "2  Job Number: 01203341\\n\\n\\nDescription\\n\\n\\nSo ...  Washington   \n",
       "3  everis is a multinational consulting firm prov...  Washington   \n",
       "4  CHASE Professionals is currently representing ...      Duluth   \n",
       "\n",
       "               company country  expired  \\\n",
       "0  World Wildlife Fund      US    False   \n",
       "1                  IBM      US    False   \n",
       "2  Booz Allen Hamilton      US    False   \n",
       "3           Everis USA      US    False   \n",
       "4  CHASE Professionals      US    False   \n",
       "\n",
       "                                           index_url  \\\n",
       "0  http://api.indeed.com/ads/apisearch?publisher=...   \n",
       "1  http://api.indeed.com/ads/apisearch?publisher=...   \n",
       "2  http://api.indeed.com/ads/apisearch?publisher=...   \n",
       "3  http://api.indeed.com/ads/apisearch?publisher=...   \n",
       "4  http://api.indeed.com/ads/apisearch?publisher=...   \n",
       "\n",
       "                                      job_title  \\\n",
       "0    IN-16092 Conservation Data Analysis Intern   \n",
       "1  Data Science Analyst for The Weather Company   \n",
       "2                                Data Scientist   \n",
       "3                       Healthcare Data Analyst   \n",
       "4                            Sr. Data Scientist   \n",
       "\n",
       "                                         listing_url           location  \\\n",
       "0  http://www.indeed.com/viewjob?jk=7e8fe74842451...  Washington, DC US   \n",
       "1  http://www.indeed.com/viewjob?jk=4332542420d6b...      Boston, MA US   \n",
       "2  http://www.indeed.com/viewjob?jk=5df3246825de1...  Washington, DC US   \n",
       "3  http://www.indeed.com/viewjob?jk=ba266f8cb3fa7...  Washington, DC US   \n",
       "4  http://www.indeed.com/viewjob?jk=fd9df86861b6e...      Duluth, GA US   \n",
       "\n",
       "                       post_date state  status_code  \\\n",
       "0  Mon, 25 Apr 2016 21:36:16 GMT    DC          200   \n",
       "1  Thu, 03 Mar 2016 04:06:28 GMT    MA          200   \n",
       "2  Fri, 15 Apr 2016 07:31:57 GMT    DC          200   \n",
       "3  Mon, 25 Apr 2016 19:56:40 GMT    DC          200   \n",
       "4  Mon, 25 Apr 2016 14:28:26 GMT    GA          200   \n",
       "\n",
       "                                             summary    views  \n",
       "0  Data management, including updating database m...     17.0  \n",
       "1  Provide expertise in data acquisition, data qu...  10735.0  \n",
       "2  Our Data Science team:. Experience in working ...    863.0  \n",
       "3  The Healthcare Data Analyst understands health...     10.0  \n",
       "4  Strong understanding of algorithms and advance...    147.0  "
      ]
     },
     "execution_count": 3,
     "metadata": {},
     "output_type": "execute_result"
    }
   ],
   "source": [
    "df.head(5)"
   ]
  },
  {
   "cell_type": "code",
   "execution_count": 4,
   "id": "35a345d1",
   "metadata": {},
   "outputs": [
    {
     "data": {
      "text/plain": [
       "Index(['body', 'city', 'company', 'country', 'expired', 'index_url',\n",
       "       'job_title', 'listing_url', 'location', 'post_date', 'state',\n",
       "       'status_code', 'summary', 'views'],\n",
       "      dtype='object')"
      ]
     },
     "execution_count": 4,
     "metadata": {},
     "output_type": "execute_result"
    }
   ],
   "source": [
    "df.columns"
   ]
  },
  {
   "cell_type": "code",
   "execution_count": 5,
   "id": "0e9993e9",
   "metadata": {},
   "outputs": [
    {
     "data": {
      "text/plain": [
       "body            0\n",
       "city            0\n",
       "company         0\n",
       "country         0\n",
       "expired         0\n",
       "index_url       0\n",
       "job_title       0\n",
       "listing_url     0\n",
       "location        0\n",
       "post_date       0\n",
       "state           0\n",
       "status_code     0\n",
       "summary         0\n",
       "views          17\n",
       "dtype: int64"
      ]
     },
     "execution_count": 5,
     "metadata": {},
     "output_type": "execute_result"
    }
   ],
   "source": [
    "df.isna().sum()"
   ]
  },
  {
   "cell_type": "code",
   "execution_count": 6,
   "id": "2f37ec2c",
   "metadata": {},
   "outputs": [
    {
     "name": "stdout",
     "output_type": "stream",
     "text": [
      "<class 'pandas.core.frame.DataFrame'>\n",
      "RangeIndex: 100 entries, 0 to 99\n",
      "Data columns (total 14 columns):\n",
      " #   Column       Non-Null Count  Dtype  \n",
      "---  ------       --------------  -----  \n",
      " 0   body         100 non-null    object \n",
      " 1   city         100 non-null    object \n",
      " 2   company      100 non-null    object \n",
      " 3   country      100 non-null    object \n",
      " 4   expired      100 non-null    bool   \n",
      " 5   index_url    100 non-null    object \n",
      " 6   job_title    100 non-null    object \n",
      " 7   listing_url  100 non-null    object \n",
      " 8   location     100 non-null    object \n",
      " 9   post_date    100 non-null    object \n",
      " 10  state        100 non-null    object \n",
      " 11  status_code  100 non-null    int64  \n",
      " 12  summary      100 non-null    object \n",
      " 13  views        83 non-null     float64\n",
      "dtypes: bool(1), float64(1), int64(1), object(11)\n",
      "memory usage: 10.4+ KB\n"
     ]
    }
   ],
   "source": [
    "df.info()"
   ]
  },
  {
   "cell_type": "code",
   "execution_count": 7,
   "id": "7df06a0f",
   "metadata": {},
   "outputs": [],
   "source": [
    "df['views'].value_counts()\n",
    "df['views'] = df['views'].fillna(0).astype(int)"
   ]
  },
  {
   "cell_type": "code",
   "execution_count": 8,
   "id": "9f42d2fd",
   "metadata": {},
   "outputs": [],
   "source": [
    "#missing value with mean \n",
    "df['views'] =df['views'].fillna(df['views'].mean())"
   ]
  },
  {
   "cell_type": "code",
   "execution_count": 9,
   "id": "f7d96d62",
   "metadata": {},
   "outputs": [
    {
     "data": {
      "text/plain": [
       "body           0\n",
       "city           0\n",
       "company        0\n",
       "country        0\n",
       "expired        0\n",
       "index_url      0\n",
       "job_title      0\n",
       "listing_url    0\n",
       "location       0\n",
       "post_date      0\n",
       "state          0\n",
       "status_code    0\n",
       "summary        0\n",
       "views          0\n",
       "dtype: int64"
      ]
     },
     "execution_count": 9,
     "metadata": {},
     "output_type": "execute_result"
    }
   ],
   "source": [
    "df.isna().sum()"
   ]
  },
  {
   "cell_type": "code",
   "execution_count": 10,
   "id": "449b6fb2",
   "metadata": {},
   "outputs": [
    {
     "data": {
      "text/plain": [
       "location\n",
       "Washington, DC US             23\n",
       "New York, NY US                7\n",
       "Arlington, VA US               6\n",
       "Springfield, VA US             5\n",
       "McLean, VA US                  4\n",
       "Alexandria, VA US              3\n",
       "Austin, TX US                  3\n",
       "Annapolis Junction, MD US      3\n",
       "San Jose, CA US                2\n",
       "Phoenix, AZ US                 2\n",
       "Philadelphia, PA US            2\n",
       "Falls Church, VA US            2\n",
       "Fort George G Meade, MD US     2\n",
       "Greenbelt, MD US               2\n",
       "San Antonio, TX US             2\n",
       "Chicago, IL US                 2\n",
       "Tampa, FL US                   1\n",
       "Duluth, GA US                  1\n",
       "Boston, MA US                  1\n",
       "Reston, VA US                  1\n",
       "Fairfax, VA US                 1\n",
       "College Park, MD US            1\n",
       "Golden, CO US                  1\n",
       "Glendale, CA US                1\n",
       "Kannapolis, NC US              1\n",
       "San Diego, CA US               1\n",
       "Columbus, IN US                1\n",
       "Wilmington, DE US              1\n",
       "Folsom, CA US                  1\n",
       "Fort Worth, TX US              1\n",
       "Landover, MD US                1\n",
       "Hoffman Estates, IL US         1\n",
       "Atlanta, GA US                 1\n",
       "Culver City, CA US             1\n",
       "San Francisco, CA US           1\n",
       "Irvine, CA US                  1\n",
       "Denver, CO US                  1\n",
       "Tampa Bay, FL US               1\n",
       "Los Angeles, CA US             1\n",
       "Brooklyn, NY US                1\n",
       "Baltimore, MD US               1\n",
       "Durham, NC US                  1\n",
       "Chantilly, VA US               1\n",
       "Seattle, WA US                 1\n",
       "Dunwoody, GA US                1\n",
       "Herndon, VA US                 1\n",
       "Name: count, dtype: int64"
      ]
     },
     "execution_count": 10,
     "metadata": {},
     "output_type": "execute_result"
    }
   ],
   "source": [
    "df['location'].value_counts()"
   ]
  },
  {
   "cell_type": "code",
   "execution_count": 11,
   "id": "d7c249f1",
   "metadata": {},
   "outputs": [
    {
     "name": "stdout",
     "output_type": "stream",
     "text": [
      "['Washington, DC US']\n"
     ]
    }
   ],
   "source": [
    "location_with_high_jobs = df['location'].value_counts().head(1).index.values\n",
    "print(location_with_high_jobs)"
   ]
  },
  {
   "cell_type": "code",
   "execution_count": 12,
   "id": "b3baa168",
   "metadata": {},
   "outputs": [
    {
     "data": {
      "text/plain": [
       "Index(['body', 'city', 'company', 'country', 'expired', 'index_url',\n",
       "       'job_title', 'listing_url', 'location', 'post_date', 'state',\n",
       "       'status_code', 'summary', 'views'],\n",
       "      dtype='object')"
      ]
     },
     "execution_count": 12,
     "metadata": {},
     "output_type": "execute_result"
    }
   ],
   "source": [
    "df.columns"
   ]
  },
  {
   "cell_type": "code",
   "execution_count": 13,
   "id": "fcca8fb6",
   "metadata": {},
   "outputs": [
    {
     "data": {
      "text/plain": [
       "state\n",
       "VA    24\n",
       "DC    23\n",
       "MD    10\n",
       "CA     9\n",
       "NY     8\n",
       "TX     6\n",
       "GA     3\n",
       "IL     3\n",
       "FL     2\n",
       "PA     2\n",
       "AZ     2\n",
       "NC     2\n",
       "CO     2\n",
       "MA     1\n",
       "IN     1\n",
       "DE     1\n",
       "WA     1\n",
       "Name: count, dtype: int64"
      ]
     },
     "execution_count": 13,
     "metadata": {},
     "output_type": "execute_result"
    }
   ],
   "source": [
    "df['state'].value_counts()"
   ]
  },
  {
   "cell_type": "code",
   "execution_count": 14,
   "id": "b955cba4",
   "metadata": {},
   "outputs": [
    {
     "data": {
      "text/plain": [
       "company\n",
       "Booz Allen Hamilton                               5\n",
       "U.S. Federal Government                           3\n",
       "KPMG                                              3\n",
       "National Security Agency                          2\n",
       "World Wildlife Fund                               2\n",
       "                                                 ..\n",
       "State Farm Mutual Automobile Insurance Company    1\n",
       "CSC                                               1\n",
       "Qphase Technologies                               1\n",
       "Hobsons                                           1\n",
       "Department Of Veterans Affairs                    1\n",
       "Name: count, Length: 77, dtype: int64"
      ]
     },
     "execution_count": 14,
     "metadata": {},
     "output_type": "execute_result"
    }
   ],
   "source": [
    "df['company'].value_counts()"
   ]
  },
  {
   "cell_type": "code",
   "execution_count": 15,
   "id": "1eda9459",
   "metadata": {},
   "outputs": [],
   "source": [
    "df['city'] =df['city'].str.strip().str.title()\n",
    "df['state'] = df['state'].str.upper()\n",
    "df['company'] = df['company'].str.strip().str.title()"
   ]
  },
  {
   "cell_type": "code",
   "execution_count": 16,
   "id": "3f40455b",
   "metadata": {},
   "outputs": [
    {
     "data": {
      "text/html": [
       "<div>\n",
       "<style scoped>\n",
       "    .dataframe tbody tr th:only-of-type {\n",
       "        vertical-align: middle;\n",
       "    }\n",
       "\n",
       "    .dataframe tbody tr th {\n",
       "        vertical-align: top;\n",
       "    }\n",
       "\n",
       "    .dataframe thead th {\n",
       "        text-align: right;\n",
       "    }\n",
       "</style>\n",
       "<table border=\"1\" class=\"dataframe\">\n",
       "  <thead>\n",
       "    <tr style=\"text-align: right;\">\n",
       "      <th></th>\n",
       "      <th>body</th>\n",
       "      <th>city</th>\n",
       "      <th>company</th>\n",
       "      <th>country</th>\n",
       "      <th>expired</th>\n",
       "      <th>index_url</th>\n",
       "      <th>job_title</th>\n",
       "      <th>listing_url</th>\n",
       "      <th>location</th>\n",
       "      <th>post_date</th>\n",
       "      <th>state</th>\n",
       "      <th>status_code</th>\n",
       "      <th>summary</th>\n",
       "      <th>views</th>\n",
       "    </tr>\n",
       "  </thead>\n",
       "  <tbody>\n",
       "    <tr>\n",
       "      <th>0</th>\n",
       "      <td>World Wildlife Fund (WWF), the worldâs leadi...</td>\n",
       "      <td>Washington</td>\n",
       "      <td>World Wildlife Fund</td>\n",
       "      <td>US</td>\n",
       "      <td>False</td>\n",
       "      <td>http://api.indeed.com/ads/apisearch?publisher=...</td>\n",
       "      <td>IN-16092 Conservation Data Analysis Intern</td>\n",
       "      <td>http://www.indeed.com/viewjob?jk=7e8fe74842451...</td>\n",
       "      <td>Washington, DC US</td>\n",
       "      <td>Mon, 25 Apr 2016 21:36:16 GMT</td>\n",
       "      <td>DC</td>\n",
       "      <td>200</td>\n",
       "      <td>Data management, including updating database m...</td>\n",
       "      <td>17</td>\n",
       "    </tr>\n",
       "    <tr>\n",
       "      <th>1</th>\n",
       "      <td>Job Description\\n\\nThe Weather Company, an IBM...</td>\n",
       "      <td>Boston</td>\n",
       "      <td>Ibm</td>\n",
       "      <td>US</td>\n",
       "      <td>False</td>\n",
       "      <td>http://api.indeed.com/ads/apisearch?publisher=...</td>\n",
       "      <td>Data Science Analyst for The Weather Company</td>\n",
       "      <td>http://www.indeed.com/viewjob?jk=4332542420d6b...</td>\n",
       "      <td>Boston, MA US</td>\n",
       "      <td>Thu, 03 Mar 2016 04:06:28 GMT</td>\n",
       "      <td>MA</td>\n",
       "      <td>200</td>\n",
       "      <td>Provide expertise in data acquisition, data qu...</td>\n",
       "      <td>10735</td>\n",
       "    </tr>\n",
       "    <tr>\n",
       "      <th>2</th>\n",
       "      <td>Job Number: 01203341\\n\\n\\nDescription\\n\\n\\nSo ...</td>\n",
       "      <td>Washington</td>\n",
       "      <td>Booz Allen Hamilton</td>\n",
       "      <td>US</td>\n",
       "      <td>False</td>\n",
       "      <td>http://api.indeed.com/ads/apisearch?publisher=...</td>\n",
       "      <td>Data Scientist</td>\n",
       "      <td>http://www.indeed.com/viewjob?jk=5df3246825de1...</td>\n",
       "      <td>Washington, DC US</td>\n",
       "      <td>Fri, 15 Apr 2016 07:31:57 GMT</td>\n",
       "      <td>DC</td>\n",
       "      <td>200</td>\n",
       "      <td>Our Data Science team:. Experience in working ...</td>\n",
       "      <td>863</td>\n",
       "    </tr>\n",
       "    <tr>\n",
       "      <th>3</th>\n",
       "      <td>everis is a multinational consulting firm prov...</td>\n",
       "      <td>Washington</td>\n",
       "      <td>Everis Usa</td>\n",
       "      <td>US</td>\n",
       "      <td>False</td>\n",
       "      <td>http://api.indeed.com/ads/apisearch?publisher=...</td>\n",
       "      <td>Healthcare Data Analyst</td>\n",
       "      <td>http://www.indeed.com/viewjob?jk=ba266f8cb3fa7...</td>\n",
       "      <td>Washington, DC US</td>\n",
       "      <td>Mon, 25 Apr 2016 19:56:40 GMT</td>\n",
       "      <td>DC</td>\n",
       "      <td>200</td>\n",
       "      <td>The Healthcare Data Analyst understands health...</td>\n",
       "      <td>10</td>\n",
       "    </tr>\n",
       "    <tr>\n",
       "      <th>4</th>\n",
       "      <td>CHASE Professionals is currently representing ...</td>\n",
       "      <td>Duluth</td>\n",
       "      <td>Chase Professionals</td>\n",
       "      <td>US</td>\n",
       "      <td>False</td>\n",
       "      <td>http://api.indeed.com/ads/apisearch?publisher=...</td>\n",
       "      <td>Sr. Data Scientist</td>\n",
       "      <td>http://www.indeed.com/viewjob?jk=fd9df86861b6e...</td>\n",
       "      <td>Duluth, GA US</td>\n",
       "      <td>Mon, 25 Apr 2016 14:28:26 GMT</td>\n",
       "      <td>GA</td>\n",
       "      <td>200</td>\n",
       "      <td>Strong understanding of algorithms and advance...</td>\n",
       "      <td>147</td>\n",
       "    </tr>\n",
       "  </tbody>\n",
       "</table>\n",
       "</div>"
      ],
      "text/plain": [
       "                                                body        city  \\\n",
       "0  World Wildlife Fund (WWF), the worldâs leadi...  Washington   \n",
       "1  Job Description\\n\\nThe Weather Company, an IBM...      Boston   \n",
       "2  Job Number: 01203341\\n\\n\\nDescription\\n\\n\\nSo ...  Washington   \n",
       "3  everis is a multinational consulting firm prov...  Washington   \n",
       "4  CHASE Professionals is currently representing ...      Duluth   \n",
       "\n",
       "               company country  expired  \\\n",
       "0  World Wildlife Fund      US    False   \n",
       "1                  Ibm      US    False   \n",
       "2  Booz Allen Hamilton      US    False   \n",
       "3           Everis Usa      US    False   \n",
       "4  Chase Professionals      US    False   \n",
       "\n",
       "                                           index_url  \\\n",
       "0  http://api.indeed.com/ads/apisearch?publisher=...   \n",
       "1  http://api.indeed.com/ads/apisearch?publisher=...   \n",
       "2  http://api.indeed.com/ads/apisearch?publisher=...   \n",
       "3  http://api.indeed.com/ads/apisearch?publisher=...   \n",
       "4  http://api.indeed.com/ads/apisearch?publisher=...   \n",
       "\n",
       "                                      job_title  \\\n",
       "0    IN-16092 Conservation Data Analysis Intern   \n",
       "1  Data Science Analyst for The Weather Company   \n",
       "2                                Data Scientist   \n",
       "3                       Healthcare Data Analyst   \n",
       "4                            Sr. Data Scientist   \n",
       "\n",
       "                                         listing_url           location  \\\n",
       "0  http://www.indeed.com/viewjob?jk=7e8fe74842451...  Washington, DC US   \n",
       "1  http://www.indeed.com/viewjob?jk=4332542420d6b...      Boston, MA US   \n",
       "2  http://www.indeed.com/viewjob?jk=5df3246825de1...  Washington, DC US   \n",
       "3  http://www.indeed.com/viewjob?jk=ba266f8cb3fa7...  Washington, DC US   \n",
       "4  http://www.indeed.com/viewjob?jk=fd9df86861b6e...      Duluth, GA US   \n",
       "\n",
       "                       post_date state  status_code  \\\n",
       "0  Mon, 25 Apr 2016 21:36:16 GMT    DC          200   \n",
       "1  Thu, 03 Mar 2016 04:06:28 GMT    MA          200   \n",
       "2  Fri, 15 Apr 2016 07:31:57 GMT    DC          200   \n",
       "3  Mon, 25 Apr 2016 19:56:40 GMT    DC          200   \n",
       "4  Mon, 25 Apr 2016 14:28:26 GMT    GA          200   \n",
       "\n",
       "                                             summary  views  \n",
       "0  Data management, including updating database m...     17  \n",
       "1  Provide expertise in data acquisition, data qu...  10735  \n",
       "2  Our Data Science team:. Experience in working ...    863  \n",
       "3  The Healthcare Data Analyst understands health...     10  \n",
       "4  Strong understanding of algorithms and advance...    147  "
      ]
     },
     "execution_count": 16,
     "metadata": {},
     "output_type": "execute_result"
    }
   ],
   "source": [
    "df.head(5)"
   ]
  },
  {
   "cell_type": "code",
   "execution_count": 17,
   "id": "4fc94d13",
   "metadata": {},
   "outputs": [
    {
     "name": "stdout",
     "output_type": "stream",
     "text": [
      "Booz Allen Hamilton\n"
     ]
    }
   ],
   "source": [
    "company_who_posted_most_jobs = df['company'].mode()[0]\n",
    "print(company_who_posted_most_jobs)"
   ]
  },
  {
   "cell_type": "code",
   "execution_count": 18,
   "id": "7c4bee95",
   "metadata": {},
   "outputs": [
    {
     "name": "stdout",
     "output_type": "stream",
     "text": [
      "Booz Allen Hamilton\n"
     ]
    }
   ],
   "source": [
    "company_who_posted_most_jobs = df['company'].value_counts().idxmax()\n",
    "print(company_who_posted_most_jobs)"
   ]
  },
  {
   "cell_type": "code",
   "execution_count": 19,
   "id": "127115b6",
   "metadata": {},
   "outputs": [
    {
     "data": {
      "text/plain": [
       "job_title\n",
       "Data Scientist                                                     31\n",
       "Data Science Intern                                                 6\n",
       "Data Analyst                                                        5\n",
       "Data Analyst - Data Science Office                                  2\n",
       "Science Education Administrator (Program Director)                  2\n",
       "Associate All-Source Geospatial Data Scientist                      2\n",
       "IN-16093 Conservation Data Visualization Intern                     1\n",
       "Sr. Data Scientist                                                  1\n",
       "Data Science Analyst for The Weather Company                        1\n",
       "IN-16092 Conservation Data Analysis Intern                          1\n",
       "Statistical Data Analyst                                            1\n",
       "Data Science Summer Intern                                          1\n",
       "Data Scientist/Analyst                                              1\n",
       "Data Scientist - Entry Level                                        1\n",
       "Applied Machine Learning Job                                        1\n",
       "Analytics Manager                                                   1\n",
       "Health Data Scientist, Junior                                       1\n",
       "Machine Learning and Data Analytics Research Researcher             1\n",
       "Manager, Reporting & Analytics                                      1\n",
       "DATA SCIENTIST                                                      1\n",
       "Data Science Assurance Manager                                      1\n",
       "Data Scientist, Mid                                                 1\n",
       "Sr. Machine Learning Data Scientist                                 1\n",
       "Advanced Analytics Manager - Respiratory                            1\n",
       "Assistant/Associate Professor (SEAS)                                1\n",
       "Healthcare Data Analyst                                             1\n",
       "Data Science Analyst (Intern)                                       1\n",
       "Data Scientist / BI Developer                                       1\n",
       "Advanced Analytics Lead Data Scientist                              1\n",
       "Data Science Analyst Intern                                         1\n",
       "Manager, Data Science                                               1\n",
       "Computational Data Science Research Specialist                      1\n",
       "Data Analyst (active federal government clearance)                  1\n",
       "Data Scientist - Real Time Data                                     1\n",
       "Junior Developer | Data Scientist                                   1\n",
       "Analyst, Workforce Analytics                                        1\n",
       "Student Intern/Co-Op                                                1\n",
       "Data Operations Coordinator                                         1\n",
       "Decision Science Analyst-Lead                                       1\n",
       "Decision Science Analyst                                            1\n",
       "Business Analyst Intern                                             1\n",
       "Biologist                                                           1\n",
       "Data Engineer (Streaming Analytics, CEP)                            1\n",
       "GD094 Science Data Integrator/Engineer                              1\n",
       "GEOINT Analyst (Data Science)                                       1\n",
       "AVP, Lead Data Scientist (L11)                                      1\n",
       "Immediate Interview------------Oracle DBA                           1\n",
       "Research Physical Scientist, AST, Earth Sciences Remote Sensing     1\n",
       "Intern, Workforce Analytics                                         1\n",
       "Research Associate - R and D Data Scientist                         1\n",
       "data scientist, Business Strategy - Seattle, WA                     1\n",
       "Data Scientist Support (Big Data Developer or Data Designer)        1\n",
       "Cloud Data Science Developer, Mid                                   1\n",
       "Big Data Hadoop Performance Engineer                                1\n",
       "Big Data Developer-Full Time                                        1\n",
       "GEOINT Analyst (Geospatial Data Stewardship)                        1\n",
       "Data Science Engineer (New Grad)                                    1\n",
       "Technology Transfer Specialist                                      1\n",
       "Name: count, dtype: int64"
      ]
     },
     "execution_count": 19,
     "metadata": {},
     "output_type": "execute_result"
    }
   ],
   "source": [
    "df['job_title'].value_counts()"
   ]
  },
  {
   "cell_type": "code",
   "execution_count": 20,
   "id": "ee073923",
   "metadata": {},
   "outputs": [
    {
     "data": {
      "text/plain": [
       "job_title_standardized\n",
       "Data Scientist               48\n",
       "Other                        20\n",
       "Data Science Intern          11\n",
       "Data Analyst                 10\n",
       "Analytics Manager             5\n",
       "Data Engineer                 4\n",
       "Machine Learning Engineer     2\n",
       "Name: count, dtype: int64"
      ]
     },
     "execution_count": 20,
     "metadata": {},
     "output_type": "execute_result"
    }
   ],
   "source": [
    "def standardize_job_title(title):\n",
    "    title = str(title).lower().strip()\n",
    "    \n",
    "    if 'data scientist' in title:\n",
    "        return 'Data Scientist'\n",
    "    elif 'data analyst' in title:\n",
    "        return 'Data Analyst'\n",
    "    elif 'intern' in title and 'data' in title:\n",
    "        return 'Data Science Intern'\n",
    "    elif 'machine learning' in title:\n",
    "        return 'Machine Learning Engineer'\n",
    "    elif 'manager' in title and ('analytics' in title or 'data' in title):\n",
    "        return 'Analytics Manager'\n",
    "    elif 'engineer' in title and 'data' in title:\n",
    "        return 'Data Engineer'\n",
    "    else:\n",
    "        return 'Other'\n",
    "\n",
    "df['job_title_standardized'] = df['job_title'].apply(standardize_job_title)\n",
    "df['job_title_standardized'].value_counts()"
   ]
  },
  {
   "cell_type": "code",
   "execution_count": 21,
   "id": "0e978f52",
   "metadata": {},
   "outputs": [
    {
     "data": {
      "text/html": [
       "<div>\n",
       "<style scoped>\n",
       "    .dataframe tbody tr th:only-of-type {\n",
       "        vertical-align: middle;\n",
       "    }\n",
       "\n",
       "    .dataframe tbody tr th {\n",
       "        vertical-align: top;\n",
       "    }\n",
       "\n",
       "    .dataframe thead th {\n",
       "        text-align: right;\n",
       "    }\n",
       "</style>\n",
       "<table border=\"1\" class=\"dataframe\">\n",
       "  <thead>\n",
       "    <tr style=\"text-align: right;\">\n",
       "      <th></th>\n",
       "      <th>body</th>\n",
       "      <th>city</th>\n",
       "      <th>company</th>\n",
       "      <th>country</th>\n",
       "      <th>expired</th>\n",
       "      <th>index_url</th>\n",
       "      <th>job_title</th>\n",
       "      <th>listing_url</th>\n",
       "      <th>location</th>\n",
       "      <th>post_date</th>\n",
       "      <th>state</th>\n",
       "      <th>status_code</th>\n",
       "      <th>summary</th>\n",
       "      <th>views</th>\n",
       "      <th>job_title_standardized</th>\n",
       "    </tr>\n",
       "  </thead>\n",
       "  <tbody>\n",
       "    <tr>\n",
       "      <th>0</th>\n",
       "      <td>World Wildlife Fund (WWF), the worldâs leadi...</td>\n",
       "      <td>Washington</td>\n",
       "      <td>World Wildlife Fund</td>\n",
       "      <td>US</td>\n",
       "      <td>False</td>\n",
       "      <td>http://api.indeed.com/ads/apisearch?publisher=...</td>\n",
       "      <td>IN-16092 Conservation Data Analysis Intern</td>\n",
       "      <td>http://www.indeed.com/viewjob?jk=7e8fe74842451...</td>\n",
       "      <td>Washington, DC US</td>\n",
       "      <td>Mon, 25 Apr 2016 21:36:16 GMT</td>\n",
       "      <td>DC</td>\n",
       "      <td>200</td>\n",
       "      <td>Data management, including updating database m...</td>\n",
       "      <td>17</td>\n",
       "      <td>Data Science Intern</td>\n",
       "    </tr>\n",
       "    <tr>\n",
       "      <th>1</th>\n",
       "      <td>Job Description\\n\\nThe Weather Company, an IBM...</td>\n",
       "      <td>Boston</td>\n",
       "      <td>Ibm</td>\n",
       "      <td>US</td>\n",
       "      <td>False</td>\n",
       "      <td>http://api.indeed.com/ads/apisearch?publisher=...</td>\n",
       "      <td>Data Science Analyst for The Weather Company</td>\n",
       "      <td>http://www.indeed.com/viewjob?jk=4332542420d6b...</td>\n",
       "      <td>Boston, MA US</td>\n",
       "      <td>Thu, 03 Mar 2016 04:06:28 GMT</td>\n",
       "      <td>MA</td>\n",
       "      <td>200</td>\n",
       "      <td>Provide expertise in data acquisition, data qu...</td>\n",
       "      <td>10735</td>\n",
       "      <td>Other</td>\n",
       "    </tr>\n",
       "    <tr>\n",
       "      <th>2</th>\n",
       "      <td>Job Number: 01203341\\n\\n\\nDescription\\n\\n\\nSo ...</td>\n",
       "      <td>Washington</td>\n",
       "      <td>Booz Allen Hamilton</td>\n",
       "      <td>US</td>\n",
       "      <td>False</td>\n",
       "      <td>http://api.indeed.com/ads/apisearch?publisher=...</td>\n",
       "      <td>Data Scientist</td>\n",
       "      <td>http://www.indeed.com/viewjob?jk=5df3246825de1...</td>\n",
       "      <td>Washington, DC US</td>\n",
       "      <td>Fri, 15 Apr 2016 07:31:57 GMT</td>\n",
       "      <td>DC</td>\n",
       "      <td>200</td>\n",
       "      <td>Our Data Science team:. Experience in working ...</td>\n",
       "      <td>863</td>\n",
       "      <td>Data Scientist</td>\n",
       "    </tr>\n",
       "    <tr>\n",
       "      <th>3</th>\n",
       "      <td>everis is a multinational consulting firm prov...</td>\n",
       "      <td>Washington</td>\n",
       "      <td>Everis Usa</td>\n",
       "      <td>US</td>\n",
       "      <td>False</td>\n",
       "      <td>http://api.indeed.com/ads/apisearch?publisher=...</td>\n",
       "      <td>Healthcare Data Analyst</td>\n",
       "      <td>http://www.indeed.com/viewjob?jk=ba266f8cb3fa7...</td>\n",
       "      <td>Washington, DC US</td>\n",
       "      <td>Mon, 25 Apr 2016 19:56:40 GMT</td>\n",
       "      <td>DC</td>\n",
       "      <td>200</td>\n",
       "      <td>The Healthcare Data Analyst understands health...</td>\n",
       "      <td>10</td>\n",
       "      <td>Data Analyst</td>\n",
       "    </tr>\n",
       "    <tr>\n",
       "      <th>4</th>\n",
       "      <td>CHASE Professionals is currently representing ...</td>\n",
       "      <td>Duluth</td>\n",
       "      <td>Chase Professionals</td>\n",
       "      <td>US</td>\n",
       "      <td>False</td>\n",
       "      <td>http://api.indeed.com/ads/apisearch?publisher=...</td>\n",
       "      <td>Sr. Data Scientist</td>\n",
       "      <td>http://www.indeed.com/viewjob?jk=fd9df86861b6e...</td>\n",
       "      <td>Duluth, GA US</td>\n",
       "      <td>Mon, 25 Apr 2016 14:28:26 GMT</td>\n",
       "      <td>GA</td>\n",
       "      <td>200</td>\n",
       "      <td>Strong understanding of algorithms and advance...</td>\n",
       "      <td>147</td>\n",
       "      <td>Data Scientist</td>\n",
       "    </tr>\n",
       "  </tbody>\n",
       "</table>\n",
       "</div>"
      ],
      "text/plain": [
       "                                                body        city  \\\n",
       "0  World Wildlife Fund (WWF), the worldâs leadi...  Washington   \n",
       "1  Job Description\\n\\nThe Weather Company, an IBM...      Boston   \n",
       "2  Job Number: 01203341\\n\\n\\nDescription\\n\\n\\nSo ...  Washington   \n",
       "3  everis is a multinational consulting firm prov...  Washington   \n",
       "4  CHASE Professionals is currently representing ...      Duluth   \n",
       "\n",
       "               company country  expired  \\\n",
       "0  World Wildlife Fund      US    False   \n",
       "1                  Ibm      US    False   \n",
       "2  Booz Allen Hamilton      US    False   \n",
       "3           Everis Usa      US    False   \n",
       "4  Chase Professionals      US    False   \n",
       "\n",
       "                                           index_url  \\\n",
       "0  http://api.indeed.com/ads/apisearch?publisher=...   \n",
       "1  http://api.indeed.com/ads/apisearch?publisher=...   \n",
       "2  http://api.indeed.com/ads/apisearch?publisher=...   \n",
       "3  http://api.indeed.com/ads/apisearch?publisher=...   \n",
       "4  http://api.indeed.com/ads/apisearch?publisher=...   \n",
       "\n",
       "                                      job_title  \\\n",
       "0    IN-16092 Conservation Data Analysis Intern   \n",
       "1  Data Science Analyst for The Weather Company   \n",
       "2                                Data Scientist   \n",
       "3                       Healthcare Data Analyst   \n",
       "4                            Sr. Data Scientist   \n",
       "\n",
       "                                         listing_url           location  \\\n",
       "0  http://www.indeed.com/viewjob?jk=7e8fe74842451...  Washington, DC US   \n",
       "1  http://www.indeed.com/viewjob?jk=4332542420d6b...      Boston, MA US   \n",
       "2  http://www.indeed.com/viewjob?jk=5df3246825de1...  Washington, DC US   \n",
       "3  http://www.indeed.com/viewjob?jk=ba266f8cb3fa7...  Washington, DC US   \n",
       "4  http://www.indeed.com/viewjob?jk=fd9df86861b6e...      Duluth, GA US   \n",
       "\n",
       "                       post_date state  status_code  \\\n",
       "0  Mon, 25 Apr 2016 21:36:16 GMT    DC          200   \n",
       "1  Thu, 03 Mar 2016 04:06:28 GMT    MA          200   \n",
       "2  Fri, 15 Apr 2016 07:31:57 GMT    DC          200   \n",
       "3  Mon, 25 Apr 2016 19:56:40 GMT    DC          200   \n",
       "4  Mon, 25 Apr 2016 14:28:26 GMT    GA          200   \n",
       "\n",
       "                                             summary  views  \\\n",
       "0  Data management, including updating database m...     17   \n",
       "1  Provide expertise in data acquisition, data qu...  10735   \n",
       "2  Our Data Science team:. Experience in working ...    863   \n",
       "3  The Healthcare Data Analyst understands health...     10   \n",
       "4  Strong understanding of algorithms and advance...    147   \n",
       "\n",
       "  job_title_standardized  \n",
       "0    Data Science Intern  \n",
       "1                  Other  \n",
       "2         Data Scientist  \n",
       "3           Data Analyst  \n",
       "4         Data Scientist  "
      ]
     },
     "execution_count": 21,
     "metadata": {},
     "output_type": "execute_result"
    }
   ],
   "source": [
    "df.head(5)"
   ]
  },
  {
   "cell_type": "code",
   "execution_count": 22,
   "id": "ebec55dc",
   "metadata": {},
   "outputs": [
    {
     "data": {
      "image/png": "[encoded data removed]",
      "text/plain": [
       "<Figure size 640x480 with 1 Axes>"
      ]
     },
     "metadata": {},
     "output_type": "display_data"
    }
   ],
   "source": [
    "df[\"job_title_standardized\"].value_counts().head(10).plot(kind=\"bar\", title=\"Top Standardized Job Titles\")\n",
    "plt.show()"
   ]
  },
  {
   "cell_type": "code",
   "execution_count": 23,
   "id": "6be7d978",
   "metadata": {},
   "outputs": [],
   "source": [
    "df['expired'] = df['expired'].map({True:0, False:1})"
   ]
  },
  {
   "cell_type": "code",
   "execution_count": 24,
   "id": "50e9f24b",
   "metadata": {},
   "outputs": [
    {
     "data": {
      "text/plain": [
       "<Axes: title={'center': 'Top Hiring Locations'}, xlabel='location'>"
      ]
     },
     "execution_count": 24,
     "metadata": {},
     "output_type": "execute_result"
    },
    {
     "data": {
      "image/png": "[encoded data removed]",
      "text/plain": [
       "<Figure size 640x480 with 1 Axes>"
      ]
     },
     "metadata": {},
     "output_type": "display_data"
    }
   ],
   "source": [
    "df[\"location\"].value_counts().head(10).plot(kind=\"bar\", title=\"Top Hiring Locations\")"
   ]
  },
  {
   "cell_type": "code",
   "execution_count": 25,
   "id": "5c182af8",
   "metadata": {},
   "outputs": [],
   "source": [
    "df.drop(columns=['job_title','index_url','listing_url','expired'], inplace=True)"
   ]
  },
  {
   "cell_type": "code",
   "execution_count": 26,
   "id": "c451d74f",
   "metadata": {},
   "outputs": [
    {
     "data": {
      "text/plain": [
       "Index(['body', 'city', 'company', 'country', 'location', 'post_date', 'state',\n",
       "       'status_code', 'summary', 'views', 'job_title_standardized'],\n",
       "      dtype='object')"
      ]
     },
     "execution_count": 26,
     "metadata": {},
     "output_type": "execute_result"
    }
   ],
   "source": [
    "df.columns"
   ]
  },
  {
   "cell_type": "code",
   "execution_count": 27,
   "id": "8e818961",
   "metadata": {},
   "outputs": [
    {
     "data": {
      "text/html": [
       "<div>\n",
       "<style scoped>\n",
       "    .dataframe tbody tr th:only-of-type {\n",
       "        vertical-align: middle;\n",
       "    }\n",
       "\n",
       "    .dataframe tbody tr th {\n",
       "        vertical-align: top;\n",
       "    }\n",
       "\n",
       "    .dataframe thead th {\n",
       "        text-align: right;\n",
       "    }\n",
       "</style>\n",
       "<table border=\"1\" class=\"dataframe\">\n",
       "  <thead>\n",
       "    <tr style=\"text-align: right;\">\n",
       "      <th></th>\n",
       "      <th>body</th>\n",
       "      <th>city</th>\n",
       "      <th>company</th>\n",
       "      <th>country</th>\n",
       "      <th>location</th>\n",
       "      <th>post_date</th>\n",
       "      <th>state</th>\n",
       "      <th>status_code</th>\n",
       "      <th>summary</th>\n",
       "      <th>views</th>\n",
       "      <th>job_title_standardized</th>\n",
       "    </tr>\n",
       "  </thead>\n",
       "  <tbody>\n",
       "    <tr>\n",
       "      <th>0</th>\n",
       "      <td>World Wildlife Fund (WWF), the worldâs leadi...</td>\n",
       "      <td>Washington</td>\n",
       "      <td>World Wildlife Fund</td>\n",
       "      <td>US</td>\n",
       "      <td>Washington, DC US</td>\n",
       "      <td>Mon, 25 Apr 2016 21:36:16 GMT</td>\n",
       "      <td>DC</td>\n",
       "      <td>200</td>\n",
       "      <td>Data management, including updating database m...</td>\n",
       "      <td>17</td>\n",
       "      <td>Data Science Intern</td>\n",
       "    </tr>\n",
       "    <tr>\n",
       "      <th>1</th>\n",
       "      <td>Job Description\\n\\nThe Weather Company, an IBM...</td>\n",
       "      <td>Boston</td>\n",
       "      <td>Ibm</td>\n",
       "      <td>US</td>\n",
       "      <td>Boston, MA US</td>\n",
       "      <td>Thu, 03 Mar 2016 04:06:28 GMT</td>\n",
       "      <td>MA</td>\n",
       "      <td>200</td>\n",
       "      <td>Provide expertise in data acquisition, data qu...</td>\n",
       "      <td>10735</td>\n",
       "      <td>Other</td>\n",
       "    </tr>\n",
       "    <tr>\n",
       "      <th>2</th>\n",
       "      <td>Job Number: 01203341\\n\\n\\nDescription\\n\\n\\nSo ...</td>\n",
       "      <td>Washington</td>\n",
       "      <td>Booz Allen Hamilton</td>\n",
       "      <td>US</td>\n",
       "      <td>Washington, DC US</td>\n",
       "      <td>Fri, 15 Apr 2016 07:31:57 GMT</td>\n",
       "      <td>DC</td>\n",
       "      <td>200</td>\n",
       "      <td>Our Data Science team:. Experience in working ...</td>\n",
       "      <td>863</td>\n",
       "      <td>Data Scientist</td>\n",
       "    </tr>\n",
       "    <tr>\n",
       "      <th>3</th>\n",
       "      <td>everis is a multinational consulting firm prov...</td>\n",
       "      <td>Washington</td>\n",
       "      <td>Everis Usa</td>\n",
       "      <td>US</td>\n",
       "      <td>Washington, DC US</td>\n",
       "      <td>Mon, 25 Apr 2016 19:56:40 GMT</td>\n",
       "      <td>DC</td>\n",
       "      <td>200</td>\n",
       "      <td>The Healthcare Data Analyst understands health...</td>\n",
       "      <td>10</td>\n",
       "      <td>Data Analyst</td>\n",
       "    </tr>\n",
       "    <tr>\n",
       "      <th>4</th>\n",
       "      <td>CHASE Professionals is currently representing ...</td>\n",
       "      <td>Duluth</td>\n",
       "      <td>Chase Professionals</td>\n",
       "      <td>US</td>\n",
       "      <td>Duluth, GA US</td>\n",
       "      <td>Mon, 25 Apr 2016 14:28:26 GMT</td>\n",
       "      <td>GA</td>\n",
       "      <td>200</td>\n",
       "      <td>Strong understanding of algorithms and advance...</td>\n",
       "      <td>147</td>\n",
       "      <td>Data Scientist</td>\n",
       "    </tr>\n",
       "  </tbody>\n",
       "</table>\n",
       "</div>"
      ],
      "text/plain": [
       "                                                body        city  \\\n",
       "0  World Wildlife Fund (WWF), the worldâs leadi...  Washington   \n",
       "1  Job Description\\n\\nThe Weather Company, an IBM...      Boston   \n",
       "2  Job Number: 01203341\\n\\n\\nDescription\\n\\n\\nSo ...  Washington   \n",
       "3  everis is a multinational consulting firm prov...  Washington   \n",
       "4  CHASE Professionals is currently representing ...      Duluth   \n",
       "\n",
       "               company country           location  \\\n",
       "0  World Wildlife Fund      US  Washington, DC US   \n",
       "1                  Ibm      US      Boston, MA US   \n",
       "2  Booz Allen Hamilton      US  Washington, DC US   \n",
       "3           Everis Usa      US  Washington, DC US   \n",
       "4  Chase Professionals      US      Duluth, GA US   \n",
       "\n",
       "                       post_date state  status_code  \\\n",
       "0  Mon, 25 Apr 2016 21:36:16 GMT    DC          200   \n",
       "1  Thu, 03 Mar 2016 04:06:28 GMT    MA          200   \n",
       "2  Fri, 15 Apr 2016 07:31:57 GMT    DC          200   \n",
       "3  Mon, 25 Apr 2016 19:56:40 GMT    DC          200   \n",
       "4  Mon, 25 Apr 2016 14:28:26 GMT    GA          200   \n",
       "\n",
       "                                             summary  views  \\\n",
       "0  Data management, including updating database m...     17   \n",
       "1  Provide expertise in data acquisition, data qu...  10735   \n",
       "2  Our Data Science team:. Experience in working ...    863   \n",
       "3  The Healthcare Data Analyst understands health...     10   \n",
       "4  Strong understanding of algorithms and advance...    147   \n",
       "\n",
       "  job_title_standardized  \n",
       "0    Data Science Intern  \n",
       "1                  Other  \n",
       "2         Data Scientist  \n",
       "3           Data Analyst  \n",
       "4         Data Scientist  "
      ]
     },
     "execution_count": 27,
     "metadata": {},
     "output_type": "execute_result"
    }
   ],
   "source": [
    "df.head()"
   ]
  },
  {
   "cell_type": "code",
   "execution_count": 28,
   "id": "32dc6ac5",
   "metadata": {},
   "outputs": [
    {
     "data": {
      "text/plain": [
       "0   2016-04-25 21:36:16+00:00\n",
       "1   2016-03-03 04:06:28+00:00\n",
       "2   2016-04-15 07:31:57+00:00\n",
       "3   2016-04-25 19:56:40+00:00\n",
       "4   2016-04-25 14:28:26+00:00\n",
       "Name: post_date, dtype: datetime64[ns, UTC]"
      ]
     },
     "execution_count": 28,
     "metadata": {},
     "output_type": "execute_result"
    }
   ],
   "source": [
    "#clean the date columns\n",
    "df['post_date'] = pd.to_datetime(df['post_date'], format='%a, %d %b %Y %H:%M:%S %Z', errors='coerce')\n",
    "df['post_date'].head(5)"
   ]
  },
  {
   "cell_type": "code",
   "execution_count": 29,
   "id": "3a4ad0a4",
   "metadata": {},
   "outputs": [],
   "source": [
    "# # Extract date components\n",
    "# df['post_year'] = df['post_date'].dt.year\n",
    "# df['post_month'] = df['post_date'].dt.month\n",
    "# df['post_day'] = df['post_date'].dt.day\n",
    "# df['post_weekday'] = df['post_date'].dt.day_name()\n",
    "\n",
    "# Convert to just date (remove time)\n",
    "df['post_date_only'] = df['post_date'].dt.date"
   ]
  },
  {
   "cell_type": "code",
   "execution_count": 30,
   "id": "03dfe776",
   "metadata": {},
   "outputs": [
    {
     "data": {
      "text/plain": [
       "0     2016-04-25\n",
       "1     2016-03-03\n",
       "2     2016-04-15\n",
       "3     2016-04-25\n",
       "4     2016-04-25\n",
       "         ...    \n",
       "95    2016-04-14\n",
       "96    2016-04-09\n",
       "97    2016-03-21\n",
       "98    2016-03-16\n",
       "99    2016-04-27\n",
       "Name: post_date_only, Length: 100, dtype: object"
      ]
     },
     "execution_count": 30,
     "metadata": {},
     "output_type": "execute_result"
    }
   ],
   "source": [
    "df['post_date_only']"
   ]
  },
  {
   "cell_type": "code",
   "execution_count": 31,
   "id": "3eb177a1",
   "metadata": {},
   "outputs": [
    {
     "data": {
      "image/png": "[encoded data removed]",
      "text/plain": [
       "<Figure size 1200x600 with 1 Axes>"
      ]
     },
     "metadata": {},
     "output_type": "display_data"
    }
   ],
   "source": [
    "#groupby visualization\n",
    "df_grouped = df.groupby('post_date_only').size().reset_index(name='job_count')\n",
    "df_grouped = df_grouped.sort_values(by='job_count', ascending=False)\n",
    "plt.figure(figsize=(12, 6))\n",
    "sns.barplot(x='post_date_only', y='job_count', data=df_grouped.head(20))\n",
    "plt.xticks(rotation=45)\n",
    "plt.title('Top 20 Dates with Most Job Postings')\n",
    "plt.xlabel('Post Date')\n",
    "plt.ylabel('Job Count')\n",
    "plt.show()"
   ]
  },
  {
   "cell_type": "code",
   "execution_count": 32,
   "id": "82f87a54",
   "metadata": {},
   "outputs": [
    {
     "data": {
      "text/plain": [
       "<Axes: xlabel='views', ylabel='Count'>"
      ]
     },
     "execution_count": 32,
     "metadata": {},
     "output_type": "execute_result"
    },
    {
     "data": {
      "image/png": "[encoded data removed]",
      "text/plain": [
       "<Figure size 640x480 with 1 Axes>"
      ]
     },
     "metadata": {},
     "output_type": "display_data"
    }
   ],
   "source": [
    "sns.histplot(df['views'].dropna(), bins=20)"
   ]
  },
  {
   "cell_type": "code",
   "execution_count": 33,
   "id": "8a7222db",
   "metadata": {},
   "outputs": [
    {
     "data": {
      "image/png": "[encoded data removed]",
      "text/plain": [
       "<Figure size 1200x800 with 2 Axes>"
      ]
     },
     "metadata": {},
     "output_type": "display_data"
    },
    {
     "name": "stdout",
     "output_type": "stream",
     "text": [
      "\n",
      "Cluster Distribution:\n",
      "job_title_standardized  Analytics Manager  Data Analyst  Data Engineer  \\\n",
      "cluster                                                                  \n",
      "0                                       1             0              1   \n",
      "1                                       0             0              0   \n",
      "2                                       0             0              0   \n",
      "3                                       0            10              0   \n",
      "4                                       4             0              3   \n",
      "\n",
      "job_title_standardized  Data Science Intern  Data Scientist  \\\n",
      "cluster                                                       \n",
      "0                                         0               1   \n",
      "1                                         0              45   \n",
      "2                                         0               2   \n",
      "3                                         0               0   \n",
      "4                                        11               0   \n",
      "\n",
      "job_title_standardized  Machine Learning Engineer  Other  \n",
      "cluster                                                   \n",
      "0                                               2      2  \n",
      "1                                               0      0  \n",
      "2                                               0      1  \n",
      "3                                               0      0  \n",
      "4                                               0     17  \n"
     ]
    }
   ],
   "source": [
    "# Convert categorical job titles to numerical using one-hot encoding\n",
    "from sklearn.preprocessing import StandardScaler, OneHotEncoder\n",
    "from sklearn.compose import ColumnTransformer\n",
    "from sklearn.cluster import KMeans\n",
    "import numpy as np\n",
    "\n",
    "# use numericic and categorcal features for clustering\n",
    "numeric_features = ['views']\n",
    "categorical_features = ['job_title_standardized']\n",
    "\n",
    "preprocessor = ColumnTransformer(\n",
    "    transformers=[\n",
    "        ('num', StandardScaler(), numeric_features),\n",
    "        ('cat', OneHotEncoder(drop='first', sparse_output=False), categorical_features)\n",
    "    ])\n",
    "\n",
    "\n",
    "X = df[numeric_features + categorical_features]\n",
    "features_encoded = preprocessor.fit_transform(X)\n",
    "\n",
    "# Apply KMeans clustering\n",
    "kmeans = KMeans(n_clusters=5, random_state=42)\n",
    "df['cluster'] = kmeans.fit_predict(features_encoded)\n",
    "\n",
    "# Visualize the clusters\n",
    "plt.figure(figsize=(12, 8))\n",
    "scatter = plt.scatter(df['views'], \n",
    "                     range(len(df)), \n",
    "                     c=df['cluster'], \n",
    "                     cmap='viridis', \n",
    "                     alpha=0.6)\n",
    "plt.colorbar(scatter, label='Cluster')\n",
    "plt.title('Job Clusters Based on Views and Job Titles')\n",
    "plt.xlabel('Views')\n",
    "plt.ylabel('Job Index')\n",
    "plt.show()\n",
    "\n",
    "# Show cluster distribution\n",
    "print(\"\\nCluster Distribution:\")\n",
    "print(df.groupby(['cluster', 'job_title_standardized']).size().unstack(fill_value=0))"
   ]
  },
  {
   "cell_type": "code",
   "execution_count": 34,
   "id": "a47f2e6d",
   "metadata": {},
   "outputs": [],
   "source": [
    "#save the cleaned data\n",
    "df.to_csv('../Data/cleaned_indeed_job_listings.csv', index=False)"
   ]
  },
  {
   "cell_type": "code",
   "execution_count": 42,
   "id": "bf0f93f2",
   "metadata": {},
   "outputs": [],
   "source": [
    "# Skill Extraction from Job Summaries\n",
    "import re\n",
    "from collections import Counter\n",
    "\n",
    "# Define comprehensive list of skills to look for\n",
    "skills_list = [\n",
    "    # Programming Languages\n",
    "    'python', 'r', 'java', 'sql', 'scala', 'julia', 'matlab', 'sas', 'spss',\n",
    "    'javascript', 'c++', 'c#', 'go', 'rust', 'perl', 'ruby', 'php',\n",
    "    \n",
    "    # Data Science & ML Libraries\n",
    "    'pandas', 'numpy', 'scikit-learn', 'sklearn', 'tensorflow', 'pytorch', 'keras',\n",
    "    'matplotlib', 'seaborn', 'plotly', 'ggplot2', 'dplyr', 'tidyr', 'caret',\n",
    "    'scipy', 'statsmodels', 'xgboost', 'lightgbm', 'catboost',\n",
    "    \n",
    "    # Big Data & Cloud\n",
    "    'hadoop', 'spark', 'hive', 'pig', 'kafka', 'storm', 'flink', 'airflow',\n",
    "    'aws', 'azure', 'gcp', 'google cloud', 'amazon web services', 'ec2', 's3',\n",
    "    'redshift', 'bigquery', 'snowflake', 'databricks',\n",
    "    \n",
    "    # Databases\n",
    "    'mysql', 'postgresql', 'mongodb', 'cassandra', 'redis', 'elasticsearch',\n",
    "    'oracle', 'sqlite', 'hbase', 'dynamodb', 'cosmos db', 'teradata',\n",
    "    \n",
    "    # Analytics & BI Tools\n",
    "    'tableau', 'power bi', 'looker', 'qlik', 'microstrategy', 'business objects',\n",
    "    'excel', 'google analytics', 'adobe analytics',\n",
    "    \n",
    "    # Machine Learning Concepts\n",
    "    'machine learning', 'deep learning', 'neural networks', 'nlp', 'computer vision',\n",
    "    'natural language processing', 'recommendation systems', 'time series',\n",
    "    'supervised learning', 'unsupervised learning', 'reinforcement learning',\n",
    "    'random forest', 'gradient boosting', 'svm', 'support vector machines',\n",
    "    'linear regression', 'logistic regression', 'clustering', 'classification',\n",
    "    'ensemble methods', 'feature engineering', 'model validation', 'cross validation',\n",
    "    \n",
    "    # Statistical Methods\n",
    "    'statistics', 'statistical analysis', 'hypothesis testing', 'a/b testing',\n",
    "    'experimental design', 'anova', 'regression analysis', 'multivariate analysis',\n",
    "    'bayesian', 'monte carlo', 'bootstrap', 'pca', 'factor analysis',\n",
    "    \n",
    "    # Data Engineering\n",
    "    'etl', 'data pipeline', 'data warehouse', 'data lake', 'stream processing',\n",
    "    'batch processing', 'data modeling', 'data architecture', 'data governance',\n",
    "    'apache', 'kubernetes', 'docker', 'jenkins', 'git', 'version control',\n",
    "    \n",
    "    # Visualization & Reporting\n",
    "    'data visualization', 'dashboard', 'reporting', 'kpi', 'metrics',\n",
    "    'storytelling', 'data storytelling', 'infographics',\n",
    "    \n",
    "    # Domain Knowledge\n",
    "    'business intelligence', 'predictive analytics', 'prescriptive analytics',\n",
    "    'market research', 'customer analytics', 'web analytics', 'social media analytics',\n",
    "    'financial modeling', 'risk analysis', 'fraud detection', 'healthcare analytics',\n",
    "    'marketing analytics', 'operations research', 'optimization',\n",
    "    \n",
    "    # Soft Skills\n",
    "    'communication', 'presentation', 'stakeholder management', 'project management',\n",
    "    'problem solving', 'critical thinking', 'analytical thinking'\n",
    "]"
   ]
  },
  {
   "cell_type": "code",
   "execution_count": 41,
   "id": "3ba3a096",
   "metadata": {},
   "outputs": [
    {
     "name": "stdout",
     "output_type": "stream",
     "text": [
      "Extracting skills from job summaries...\n",
      "\n",
      "Sample of extracted skills:\n",
      "\n",
      "Job 1 (Data Science Intern):\n",
      "Skills: No skills extracted\n",
      "Summary excerpt: Data management, including updating database metadata and database maintenance. Gain exposure to a w...\n",
      "\n",
      "Job 2 (Other):\n",
      "Skills: No skills extracted\n",
      "Summary excerpt: Provide expertise in data acquisition, data quality and data management. Work with minimal oversight...\n",
      "\n",
      "Job 3 (Data Scientist):\n",
      "Skills: No skills extracted\n",
      "Summary excerpt: Our Data Science team:. Experience in working with massive data sets, including structured and struc...\n",
      "\n",
      "Job 4 (Data Analyst):\n",
      "Skills: No skills extracted\n",
      "Summary excerpt: The Healthcare Data Analyst understands healthcare data and knows how to leverage and structure the ...\n",
      "\n",
      "Job 5 (Data Scientist):\n",
      "Skills: Statistics\n",
      "Summary excerpt: Strong understanding of algorithms and advanced data structures. Bachelor’s Degree in Computer Scien...\n"
     ]
    }
   ],
   "source": [
    "def extract_skills_from_text(text):\n",
    "    \"\"\"\n",
    "    Extract skills from job description text\n",
    "    \n",
    "    Args:\n",
    "        text: Job description text\n",
    "        \n",
    "    Returns:\n",
    "        List of skills found in the text\n",
    "    \"\"\"\n",
    "    if pd.isna(text) or text == \"\":\n",
    "        return []\n",
    "    \n",
    "    #removing special characters and normalizing text\n",
    "    text_lower = str(text).lower()\n",
    "    text_clean = re.sub(r'[^\\w\\s]', ' ', text_lower)\n",
    "    text_clean = re.sub(r'\\s+', ' ', text_clean)\n",
    "    \n",
    "    found_skills = []\n",
    "    \n",
    "    for skill in skills_list:\n",
    "        pattern = r'\\b' + re.escape(skill.lower()) + r'\\b' # Use word boundaries to avoid partial matches\n",
    "        if re.search(pattern, text_clean):\n",
    "            found_skills.append(skill.title())\n",
    "    \n",
    "    return found_skills\n",
    "\n",
    "# Apply skill extraction to the summary column\n",
    "print(\"Extracting skills from job summaries...\")\n",
    "df['extracted_skills'] = df['summary'].apply(extract_skills_from_text)\n",
    "\n",
    "# Create a column with comma-separated skills for easier viewing\n",
    "df['skills_text'] = df['extracted_skills'].apply(lambda x: ', '.join(x) if x else 'No skills extracted')\n",
    "\n",
    "# Display sample results\n",
    "print(\"\\nSample of extracted skills:\")\n",
    "for i in range(5):\n",
    "    if i < len(df):\n",
    "        print(f\"\\nJob {i+1} ({df.iloc[i]['job_title_standardized']}):\")\n",
    "        print(f\"Skills: {df.iloc[i]['skills_text']}\")\n",
    "        print(f\"Summary excerpt: {df.iloc[i]['summary'][:100]}...\")"
   ]
  },
  {
   "cell_type": "code",
   "execution_count": null,
   "id": "b4752b38",
   "metadata": {},
   "outputs": [
    {
     "name": "stdout",
     "output_type": "stream",
     "text": [
      "Skill extraction complete!\n",
      "Total jobs processed: 100\n",
      "Jobs with extracted skills: 34\n",
      "Jobs without skills: 66\n",
      "\n",
      "Top 20 Most Mentioned Skills:\n",
      "Data Visualization: 10\n",
      "Statistics: 9\n",
      "Machine Learning: 7\n",
      "Reporting: 3\n",
      "Etl: 3\n",
      "Data Warehouse: 2\n",
      "Tableau: 2\n",
      "Dashboard: 2\n",
      "Sql: 2\n",
      "Storytelling: 2\n",
      "Statistical Analysis: 2\n",
      "Hadoop: 1\n",
      "Data Modeling: 1\n",
      "Operations Research: 1\n",
      "Nlp: 1\n",
      "Predictive Analytics: 1\n",
      "Optimization: 1\n",
      "Excel: 1\n",
      "Communication: 1\n",
      "Project Management: 1\n"
     ]
    },
    {
     "name": "stderr",
     "output_type": "stream",
     "text": [
      "C:\\Users\\supre\\AppData\\Local\\Temp\\ipykernel_9884\\3920377102.py:26: FutureWarning: \n",
      "\n",
      "Passing `palette` without assigning `hue` is deprecated and will be removed in v0.14.0. Assign the `y` variable to `hue` and set `legend=False` for the same effect.\n",
      "\n",
      "  sns.barplot(data=top_skills_df, x='Count', y='Skill', palette='viridis')\n"
     ]
    },
    {
     "data": {
      "image/png": "[encoded data removed]",
      "text/plain": [
       "<Figure size 1200x800 with 1 Axes>"
      ]
     },
     "metadata": {},
     "output_type": "display_data"
    }
   ],
   "source": [
    "# Analyze the extracted skills\n",
    "print(\"Skill extraction complete!\")\n",
    "print(f\"Total jobs processed: {len(df)}\")\n",
    "print(f\"Jobs with extracted skills: {(df['extracted_skills'].str.len() > 0).sum()}\")\n",
    "print(f\"Jobs without skills: {(df['extracted_skills'].str.len() == 0).sum()}\")\n",
    "\n",
    "all_skills = []\n",
    "for skills in df['extracted_skills']:\n",
    "    all_skills.extend(skills)\n",
    "\n",
    "skill_counts = Counter(all_skills)\n",
    "\n",
    "print(\"\\nTop 20 Most Mentioned Skills:\")\n",
    "top_skills = skill_counts.most_common(20)\n",
    "for skill, count in top_skills:\n",
    "    print(f\"{skill}: {count}\")"
   ]
  },
  {
   "cell_type": "code",
   "execution_count": null,
   "id": "f74eb216",
   "metadata": {},
   "outputs": [
    {
     "name": "stderr",
     "output_type": "stream",
     "text": [
      "C:\\Users\\supre\\AppData\\Local\\Temp\\ipykernel_9884\\1651365365.py:3: FutureWarning: \n",
      "\n",
      "Passing `palette` without assigning `hue` is deprecated and will be removed in v0.14.0. Assign the `y` variable to `hue` and set `legend=False` for the same effect.\n",
      "\n",
      "  sns.barplot(data=top_skills_df, x='Count', y='Skill', palette='viridis')\n"
     ]
    },
    {
     "data": {
      "image/png": "[encoded data removed]",
      "text/plain": [
       "<Figure size 1200x800 with 1 Axes>"
      ]
     },
     "metadata": {},
     "output_type": "display_data"
    }
   ],
   "source": [
    "# Create a dataframe for visualization\n",
    "top_skills_df = pd.DataFrame(top_skills, columns=['Skill', 'Count'])\n",
    "\n",
    "# Visualize top skills\n",
    "plt.figure(figsize=(12, 8))\n",
    "sns.barplot(data=top_skills_df, x='Count', y='Skill', palette='viridis')\n",
    "plt.title('Top 20 Most Mentioned Skills in Job Postings')\n",
    "plt.xlabel('Number of Job Postings')\n",
    "plt.ylabel('Skills')\n",
    "plt.tight_layout()\n",
    "plt.show()"
   ]
  },
  {
   "cell_type": "code",
   "execution_count": 37,
   "id": "0192b7f4",
   "metadata": {},
   "outputs": [
    {
     "name": "stdout",
     "output_type": "stream",
     "text": [
      "\n",
      "Skills by Job Title Category:\n",
      "\n",
      "Data Science Intern:\n",
      "  Data Warehouse: 2\n",
      "  Data Visualization: 1\n",
      "  Hadoop: 1\n",
      "\n",
      "Other:\n",
      "  Data Visualization: 2\n",
      "  Storytelling: 2\n",
      "  Sql: 1\n",
      "  Etl: 1\n",
      "\n",
      "Data Scientist:\n",
      "  Statistics: 7\n",
      "  Machine Learning: 6\n",
      "  Data Visualization: 5\n",
      "  Etl: 2\n",
      "  Data Modeling: 1\n",
      "\n",
      "Data Analyst:\n",
      "  Tableau: 2\n",
      "  Data Visualization: 2\n",
      "  Dashboard: 2\n",
      "  Statistical Analysis: 2\n",
      "  Reporting: 2\n",
      "\n",
      "Machine Learning Engineer:\n",
      "\n",
      "Analytics Manager:\n",
      "  Reporting: 1\n",
      "  Communication: 1\n",
      "\n",
      "Data Engineer:\n",
      "  Machine Learning: 1\n",
      "  Statistics: 1\n",
      "\n",
      "Skill Categories Distribution:\n",
      "Visualization: 12\n",
      "Statistics: 11\n",
      "Machine Learning: 7\n",
      "Programming Languages: 4\n",
      "Big Data: 1\n"
     ]
    },
    {
     "name": "stderr",
     "output_type": "stream",
     "text": [
      "C:\\Users\\supre\\AppData\\Local\\Temp\\ipykernel_9884\\1676668495.py:55: FutureWarning: \n",
      "\n",
      "Passing `palette` without assigning `hue` is deprecated and will be removed in v0.14.0. Assign the `y` variable to `hue` and set `legend=False` for the same effect.\n",
      "\n",
      "  sns.barplot(x=counts, y=categories, palette='plasma')\n"
     ]
    },
    {
     "data": {
      "image/png": "[encoded data removed]",
      "text/plain": [
       "<Figure size 1000x600 with 1 Axes>"
      ]
     },
     "metadata": {},
     "output_type": "display_data"
    }
   ],
   "source": [
    "# Skills analysis by job title\n",
    "print(\"\\nSkills by Job Title Category:\")\n",
    "skills_by_job = df.groupby('job_title_standardized')['extracted_skills'].apply(\n",
    "    lambda x: [skill for sublist in x for skill in sublist]\n",
    ").apply(Counter)\n",
    "\n",
    "for job_title in df['job_title_standardized'].unique():\n",
    "    if job_title in skills_by_job.index:\n",
    "        top_skills_for_job = skills_by_job[job_title].most_common(5)\n",
    "        print(f\"\\n{job_title}:\")\n",
    "        for skill, count in top_skills_for_job:\n",
    "            print(f\"  {skill}: {count}\")\n",
    "\n",
    "# Create skill categories\n",
    "def categorize_skills(skills_list):\n",
    "    \"\"\"Categorize skills into different groups\"\"\"\n",
    "    categories = {\n",
    "        'Programming Languages': ['Python', 'R', 'Java', 'Sql', 'Scala', 'Julia', 'Matlab', 'Sas', 'Spss'],\n",
    "        'Machine Learning': ['Machine Learning', 'Deep Learning', 'Neural Networks', 'Scikit-Learn', 'Tensorflow', 'Pytorch'],\n",
    "        'Big Data': ['Hadoop', 'Spark', 'Hive', 'Kafka', 'Aws', 'Azure', 'Gcp'],\n",
    "        'Visualization': ['Tableau', 'Power Bi', 'Matplotlib', 'Seaborn', 'Plotly', 'Data Visualization'],\n",
    "        'Statistics': ['Statistics', 'Statistical Analysis', 'Regression Analysis', 'Hypothesis Testing']\n",
    "    }\n",
    "    \n",
    "    categorized = {cat: [] for cat in categories}\n",
    "    \n",
    "    for skill in skills_list:\n",
    "        skill_title = skill.title()\n",
    "        for category, cat_skills in categories.items():\n",
    "            if skill_title in cat_skills:\n",
    "                categorized[category].append(skill_title)\n",
    "                break\n",
    "    \n",
    "    return categorized\n",
    "\n",
    "# Apply categorization to each job\n",
    "df['skill_categories'] = df['extracted_skills'].apply(categorize_skills)\n",
    "\n",
    "# Create summary of skill categories\n",
    "category_counts = {}\n",
    "for categories in df['skill_categories']:\n",
    "    for category, skills in categories.items():\n",
    "        if category not in category_counts:\n",
    "            category_counts[category] = 0\n",
    "        category_counts[category] += len(skills)\n",
    "\n",
    "print(\"\\nSkill Categories Distribution:\")\n",
    "for category, count in sorted(category_counts.items(), key=lambda x: x[1], reverse=True):\n",
    "    print(f\"{category}: {count}\")\n",
    "\n",
    "# Visualize skill categories\n",
    "plt.figure(figsize=(10, 6))\n",
    "categories = list(category_counts.keys())\n",
    "counts = list(category_counts.values())\n",
    "sns.barplot(x=counts, y=categories, palette='plasma')\n",
    "plt.title('Distribution of Skill Categories')\n",
    "plt.xlabel('Number of Mentions')\n",
    "plt.ylabel('Skill Categories')\n",
    "plt.tight_layout()\n",
    "plt.show()"
   ]
  },
  {
   "cell_type": "code",
   "execution_count": 46,
   "id": "d6e0bd5a",
   "metadata": {},
   "outputs": [
    {
     "name": "stdout",
     "output_type": "stream",
     "text": [
      "Saving cleaned data with extracted skills...\n",
      "Data saved to 'cleaned_indeed_job_listings_with_skills.csv'\n"
     ]
    }
   ],
   "source": [
    "# Export the cleaned data with extracted skills\n",
    "print(\"Saving cleaned data with extracted skills...\")\n",
    "\n",
    "# Create a final cleaned dataset\n",
    "df_final = df.copy()\n",
    "\n",
    "# Add useful columns for analysis\n",
    "df_final['num_skills'] = df_final['extracted_skills'].str.len()\n",
    "df_final['has_programming'] = df_final['extracted_skills'].apply(\n",
    "    lambda x: any(skill.lower() in ['python', 'r', 'java', 'sql'] for skill in x)\n",
    ")\n",
    "df_final['has_ml'] = df_final['extracted_skills'].apply(\n",
    "    lambda x: any('machine learning' in skill.lower() or 'deep learning' in skill.lower() for skill in x)\n",
    ")\n",
    "\n",
    "df_final.to_csv('../data/cleaned_indeed_job_listings_with_skills.csv', index=False)\n",
    "print(\"Data saved to 'cleaned_indeed_job_listings_with_skills.csv'\")"
   ]
  },
  {
   "cell_type": "code",
   "execution_count": 44,
   "id": "3030608f",
   "metadata": {},
   "outputs": [
    {
     "name": "stdout",
     "output_type": "stream",
     "text": [
      "FINAL DATA SUMMARY\n",
      "Total jobs: 100\n",
      "Average skills per job: 0.55\n",
      "Jobs with programming skills: 3 (3.0%)\n",
      "Jobs with ML skills: 7 (7.0%)\n",
      "Most common job title: Data Scientist\n",
      "Most common location: Washington, DC US\n",
      "Date range: 2016-01-15 to 2016-04-27\n",
      "\n",
      "Columns in final dataset: ['body', 'city', 'company', 'country', 'location', 'post_date', 'state', 'status_code', 'summary', 'views', 'job_title_standardized', 'post_date_only', 'cluster', 'extracted_skills', 'skills_text', 'skill_categories', 'num_skills', 'has_programming', 'has_ml']\n",
      "\n",
      " Skill extraction and data cleaning completed successfully!\n"
     ]
    }
   ],
   "source": [
    "print(\"FINAL DATA SUMMARY\")\n",
    "print(f\"Total jobs: {len(df_final)}\")\n",
    "print(f\"Average skills per job: {df_final['num_skills'].mean():.2f}\")\n",
    "print(f\"Jobs with programming skills: {df_final['has_programming'].sum()} ({df_final['has_programming'].mean()*100:.1f}%)\")\n",
    "print(f\"Jobs with ML skills: {df_final['has_ml'].sum()} ({df_final['has_ml'].mean()*100:.1f}%)\")\n",
    "print(f\"Most common job title: {df_final['job_title_standardized'].mode()[0]}\")\n",
    "print(f\"Most common location: {df_final['location'].mode()[0]}\")\n",
    "print(f\"Date range: {df_final['post_date_only'].min()} to {df_final['post_date_only'].max()}\")\n",
    "\n",
    "print(f\"\\nColumns in final dataset: {list(df_final.columns)}\")\n",
    "\n",
    "print(\"\\n Skill extraction and data cleaning completed successfully!\")"
   ]
  },
  {
   "cell_type": "code",
   "execution_count": null,
   "id": "20c17367",
   "metadata": {},
   "outputs": [],
   "source": []
  }
 ],
 "metadata": {
  "kernelspec": {
   "display_name": ".venv",
   "language": "python",
   "name": "python3"
  },
  "language_info": {
   "codemirror_mode": {
    "name": "ipython",
    "version": 3
   },
   "file_extension": ".py",
   "mimetype": "text/x-python",
   "name": "python",
   "nbconvert_exporter": "python",
   "pygments_lexer": "ipython3",
   "version": "3.13.1"
  }
 },
 "nbformat": 4,
 "nbformat_minor": 5
}
