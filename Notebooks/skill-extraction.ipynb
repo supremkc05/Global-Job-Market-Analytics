{
 "cells": [
  {
   "cell_type": "code",
   "execution_count": 1,
   "id": "4c582b7f",
   "metadata": {},
   "outputs": [],
   "source": [
    "import pandas as pd\n",
    "import re\n",
    "from collections import Counter\n",
    "import matplotlib.pyplot as plt\n",
    "import seaborn as sns"
   ]
  },
  {
   "cell_type": "code",
   "execution_count": 2,
   "id": "a7500d9d",
   "metadata": {},
   "outputs": [
    {
     "data": {
      "text/html": [
       "<div>\n",
       "<style scoped>\n",
       "    .dataframe tbody tr th:only-of-type {\n",
       "        vertical-align: middle;\n",
       "    }\n",
       "\n",
       "    .dataframe tbody tr th {\n",
       "        vertical-align: top;\n",
       "    }\n",
       "\n",
       "    .dataframe thead th {\n",
       "        text-align: right;\n",
       "    }\n",
       "</style>\n",
       "<table border=\"1\" class=\"dataframe\">\n",
       "  <thead>\n",
       "    <tr style=\"text-align: right;\">\n",
       "      <th></th>\n",
       "      <th>body</th>\n",
       "      <th>city</th>\n",
       "      <th>company</th>\n",
       "      <th>country</th>\n",
       "      <th>location</th>\n",
       "      <th>post_date</th>\n",
       "      <th>state</th>\n",
       "      <th>status_code</th>\n",
       "      <th>summary</th>\n",
       "      <th>views</th>\n",
       "      <th>job_title_standardized</th>\n",
       "      <th>post_date_only</th>\n",
       "      <th>cluster</th>\n",
       "    </tr>\n",
       "  </thead>\n",
       "  <tbody>\n",
       "    <tr>\n",
       "      <th>0</th>\n",
       "      <td>World Wildlife Fund (WWF), the worldâs leadi...</td>\n",
       "      <td>Washington</td>\n",
       "      <td>World Wildlife Fund</td>\n",
       "      <td>US</td>\n",
       "      <td>Washington, DC US</td>\n",
       "      <td>2016-04-25 21:36:16+00:00</td>\n",
       "      <td>DC</td>\n",
       "      <td>200</td>\n",
       "      <td>Data management, including updating database m...</td>\n",
       "      <td>17</td>\n",
       "      <td>Data Science Intern</td>\n",
       "      <td>2016-04-25</td>\n",
       "      <td>4</td>\n",
       "    </tr>\n",
       "    <tr>\n",
       "      <th>1</th>\n",
       "      <td>Job Description\\n\\nThe Weather Company, an IBM...</td>\n",
       "      <td>Boston</td>\n",
       "      <td>Ibm</td>\n",
       "      <td>US</td>\n",
       "      <td>Boston, MA US</td>\n",
       "      <td>2016-03-03 04:06:28+00:00</td>\n",
       "      <td>MA</td>\n",
       "      <td>200</td>\n",
       "      <td>Provide expertise in data acquisition, data qu...</td>\n",
       "      <td>10735</td>\n",
       "      <td>Other</td>\n",
       "      <td>2016-03-03</td>\n",
       "      <td>2</td>\n",
       "    </tr>\n",
       "    <tr>\n",
       "      <th>2</th>\n",
       "      <td>Job Number: 01203341\\n\\n\\nDescription\\n\\n\\nSo ...</td>\n",
       "      <td>Washington</td>\n",
       "      <td>Booz Allen Hamilton</td>\n",
       "      <td>US</td>\n",
       "      <td>Washington, DC US</td>\n",
       "      <td>2016-04-15 07:31:57+00:00</td>\n",
       "      <td>DC</td>\n",
       "      <td>200</td>\n",
       "      <td>Our Data Science team:. Experience in working ...</td>\n",
       "      <td>863</td>\n",
       "      <td>Data Scientist</td>\n",
       "      <td>2016-04-15</td>\n",
       "      <td>1</td>\n",
       "    </tr>\n",
       "    <tr>\n",
       "      <th>3</th>\n",
       "      <td>everis is a multinational consulting firm prov...</td>\n",
       "      <td>Washington</td>\n",
       "      <td>Everis Usa</td>\n",
       "      <td>US</td>\n",
       "      <td>Washington, DC US</td>\n",
       "      <td>2016-04-25 19:56:40+00:00</td>\n",
       "      <td>DC</td>\n",
       "      <td>200</td>\n",
       "      <td>The Healthcare Data Analyst understands health...</td>\n",
       "      <td>10</td>\n",
       "      <td>Data Analyst</td>\n",
       "      <td>2016-04-25</td>\n",
       "      <td>3</td>\n",
       "    </tr>\n",
       "    <tr>\n",
       "      <th>4</th>\n",
       "      <td>CHASE Professionals is currently representing ...</td>\n",
       "      <td>Duluth</td>\n",
       "      <td>Chase Professionals</td>\n",
       "      <td>US</td>\n",
       "      <td>Duluth, GA US</td>\n",
       "      <td>2016-04-25 14:28:26+00:00</td>\n",
       "      <td>GA</td>\n",
       "      <td>200</td>\n",
       "      <td>Strong understanding of algorithms and advance...</td>\n",
       "      <td>147</td>\n",
       "      <td>Data Scientist</td>\n",
       "      <td>2016-04-25</td>\n",
       "      <td>1</td>\n",
       "    </tr>\n",
       "  </tbody>\n",
       "</table>\n",
       "</div>"
      ],
      "text/plain": [
       "                                                body        city  \\\n",
       "0  World Wildlife Fund (WWF), the worldâs leadi...  Washington   \n",
       "1  Job Description\\n\\nThe Weather Company, an IBM...      Boston   \n",
       "2  Job Number: 01203341\\n\\n\\nDescription\\n\\n\\nSo ...  Washington   \n",
       "3  everis is a multinational consulting firm prov...  Washington   \n",
       "4  CHASE Professionals is currently representing ...      Duluth   \n",
       "\n",
       "               company country           location                  post_date  \\\n",
       "0  World Wildlife Fund      US  Washington, DC US  2016-04-25 21:36:16+00:00   \n",
       "1                  Ibm      US      Boston, MA US  2016-03-03 04:06:28+00:00   \n",
       "2  Booz Allen Hamilton      US  Washington, DC US  2016-04-15 07:31:57+00:00   \n",
       "3           Everis Usa      US  Washington, DC US  2016-04-25 19:56:40+00:00   \n",
       "4  Chase Professionals      US      Duluth, GA US  2016-04-25 14:28:26+00:00   \n",
       "\n",
       "  state  status_code                                            summary  \\\n",
       "0    DC          200  Data management, including updating database m...   \n",
       "1    MA          200  Provide expertise in data acquisition, data qu...   \n",
       "2    DC          200  Our Data Science team:. Experience in working ...   \n",
       "3    DC          200  The Healthcare Data Analyst understands health...   \n",
       "4    GA          200  Strong understanding of algorithms and advance...   \n",
       "\n",
       "   views job_title_standardized post_date_only  cluster  \n",
       "0     17    Data Science Intern     2016-04-25        4  \n",
       "1  10735                  Other     2016-03-03        2  \n",
       "2    863         Data Scientist     2016-04-15        1  \n",
       "3     10           Data Analyst     2016-04-25        3  \n",
       "4    147         Data Scientist     2016-04-25        1  "
      ]
     },
     "execution_count": 2,
     "metadata": {},
     "output_type": "execute_result"
    }
   ],
   "source": [
    "# Load the job listings CSV\n",
    "df_jobs = pd.read_csv(\"../Data/cleaned_indeed_job_listings.csv\")\n",
    "df_jobs.head()"
   ]
  },
  {
   "cell_type": "code",
   "execution_count": 3,
   "id": "6d7b1a1a",
   "metadata": {},
   "outputs": [
    {
     "data": {
      "text/plain": [
       "Index(['body', 'city', 'company', 'country', 'location', 'post_date', 'state',\n",
       "       'status_code', 'summary', 'views', 'job_title_standardized',\n",
       "       'post_date_only', 'cluster'],\n",
       "      dtype='object')"
      ]
     },
     "execution_count": 3,
     "metadata": {},
     "output_type": "execute_result"
    }
   ],
   "source": [
    "df_jobs.columns"
   ]
  },
  {
   "cell_type": "code",
   "execution_count": null,
   "id": "7e11e4cf",
   "metadata": {},
   "outputs": [],
   "source": [
    "# Define a list of target skills (you can expand this)\n",
    "skill_keywords = [\n",
    "    'python', 'java', 'sql', 'excel', 'aws', 'docker', 'linux', 'tableau', \n",
    "    'power bi', 'hadoop', 'spark', 'nosql', 'pandas', 'numpy', 'keras', \n",
    "    'tensorflow', 'nlp', 'scikit-learn', 'flask', 'django', 'git', 'airflow','cisco',\n",
    "    'kubernetes', 'spark', 'machine learning', 'deep learning', 'data analysis'\n",
    "]"
   ]
  },
  {
   "cell_type": "code",
   "execution_count": 6,
   "id": "d3c4b3ea",
   "metadata": {},
   "outputs": [],
   "source": [
    "# Function to extract skills from text\n",
    "def extract_skills(text, skill_list):\n",
    "    if pd.isnull(text):\n",
    "        return []\n",
    "    text = text.lower()\n",
    "    found_skills = [skill for skill in skill_list if re.search(r'\\b' + re.escape(skill) + r'\\b', text)]\n",
    "    return found_skills\n"
   ]
  },
  {
   "cell_type": "code",
   "execution_count": 10,
   "id": "e360da79",
   "metadata": {},
   "outputs": [
    {
     "data": {
      "text/html": [
       "<div>\n",
       "<style scoped>\n",
       "    .dataframe tbody tr th:only-of-type {\n",
       "        vertical-align: middle;\n",
       "    }\n",
       "\n",
       "    .dataframe tbody tr th {\n",
       "        vertical-align: top;\n",
       "    }\n",
       "\n",
       "    .dataframe thead th {\n",
       "        text-align: right;\n",
       "    }\n",
       "</style>\n",
       "<table border=\"1\" class=\"dataframe\">\n",
       "  <thead>\n",
       "    <tr style=\"text-align: right;\">\n",
       "      <th></th>\n",
       "      <th>job_title_standardized</th>\n",
       "      <th>company</th>\n",
       "      <th>skills</th>\n",
       "    </tr>\n",
       "  </thead>\n",
       "  <tbody>\n",
       "    <tr>\n",
       "      <th>0</th>\n",
       "      <td>Data Science Intern</td>\n",
       "      <td>World Wildlife Fund</td>\n",
       "      <td>[]</td>\n",
       "    </tr>\n",
       "    <tr>\n",
       "      <th>1</th>\n",
       "      <td>Other</td>\n",
       "      <td>Ibm</td>\n",
       "      <td>[]</td>\n",
       "    </tr>\n",
       "    <tr>\n",
       "      <th>2</th>\n",
       "      <td>Data Scientist</td>\n",
       "      <td>Booz Allen Hamilton</td>\n",
       "      <td>[]</td>\n",
       "    </tr>\n",
       "    <tr>\n",
       "      <th>3</th>\n",
       "      <td>Data Analyst</td>\n",
       "      <td>Everis Usa</td>\n",
       "      <td>[]</td>\n",
       "    </tr>\n",
       "    <tr>\n",
       "      <th>4</th>\n",
       "      <td>Data Scientist</td>\n",
       "      <td>Chase Professionals</td>\n",
       "      <td>[]</td>\n",
       "    </tr>\n",
       "  </tbody>\n",
       "</table>\n",
       "</div>"
      ],
      "text/plain": [
       "  job_title_standardized              company skills\n",
       "0    Data Science Intern  World Wildlife Fund     []\n",
       "1                  Other                  Ibm     []\n",
       "2         Data Scientist  Booz Allen Hamilton     []\n",
       "3           Data Analyst           Everis Usa     []\n",
       "4         Data Scientist  Chase Professionals     []"
      ]
     },
     "execution_count": 10,
     "metadata": {},
     "output_type": "execute_result"
    }
   ],
   "source": [
    "# Apply to the 'summary' column\n",
    "df_jobs['skills'] = df_jobs['summary'].apply(lambda x: extract_skills(x, skill_keywords))\n",
    "df_jobs[['job_title_standardized', 'company', 'skills']].head()\n"
   ]
  },
  {
   "cell_type": "code",
   "execution_count": 11,
   "id": "073aee6e",
   "metadata": {},
   "outputs": [
    {
     "data": {
      "text/plain": [
       "skills\n",
       "[]           92\n",
       "[sql]         2\n",
       "[tableau]     2\n",
       "[nlp]         1\n",
       "[hadoop]      1\n",
       "[excel]       1\n",
       "[python]      1\n",
       "Name: count, dtype: int64"
      ]
     },
     "execution_count": 11,
     "metadata": {},
     "output_type": "execute_result"
    }
   ],
   "source": [
    "df_jobs['skills'].value_counts()"
   ]
  },
  {
   "cell_type": "code",
   "execution_count": 12,
   "id": "16c47993",
   "metadata": {},
   "outputs": [
    {
     "data": {
      "text/plain": [
       "summary\n",
       "Development, sales, marketing) on how data science and resulting predictions can be productized for key industry verticals....                                        2\n",
       "Specific responsibilities for the Data Science position include:. Growing CapTech’s data science practice through client presentations, writing proposals,...         2\n",
       "Data Analyst - Enterprise Data Science Office. The Enterprise Data Science Office is focused on the enablement of data science skill sets across Cisco, data...       2\n",
       "Machine learning, data visualization, statistical modeling, data mining, or information retrieval. We are currently seeking a Data Scientist, to join our Data...     2\n",
       "Associate All-Source Geospatial Data Scientist. In a team setting, process, manipulate, and analyze geospatial data to extract knowledge or insights from large...    2\n",
       "                                                                                                                                                                     ..\n",
       "CSC Big Data and Analytics is a high priority incubator unit with in the Emerging Business Group with focus on helping our customers accelerate their path to...      1\n",
       "Any Big Data technology Experience. 2 years’ experience with data design. At least 2 years’ experience with Data Integration....                                      1\n",
       "Knowledge of the Topographic Features Data Management System (TFDM) and associated data services, workflows, and data management processes;...                        1\n",
       "The Engineer will implement analytics product solutions based on data science, machine learning and statistics....                                                    1\n",
       "Applicants must possess a Bachelor's degree (or higher) with major study in an academic field related to the health sciences or allied sciences appropriate to...     1\n",
       "Name: count, Length: 89, dtype: int64"
      ]
     },
     "execution_count": 12,
     "metadata": {},
     "output_type": "execute_result"
    }
   ],
   "source": [
    "df_jobs['summary'].value_counts()"
   ]
  },
  {
   "cell_type": "code",
   "execution_count": null,
   "id": "2cb8adca",
   "metadata": {},
   "outputs": [],
   "source": []
  }
 ],
 "metadata": {
  "kernelspec": {
   "display_name": ".venv",
   "language": "python",
   "name": "python3"
  },
  "language_info": {
   "codemirror_mode": {
    "name": "ipython",
    "version": 3
   },
   "file_extension": ".py",
   "mimetype": "text/x-python",
   "name": "python",
   "nbconvert_exporter": "python",
   "pygments_lexer": "ipython3",
   "version": "3.13.1"
  }
 },
 "nbformat": 4,
 "nbformat_minor": 5
}
