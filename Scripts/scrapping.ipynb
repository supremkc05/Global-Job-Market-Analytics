{
 "cells": [
  {
   "cell_type": "code",
   "execution_count": 3,
   "id": "705455ed",
   "metadata": {},
   "outputs": [],
   "source": [
    "import requests\n",
    "from bs4 import BeautifulSoup\n",
    "import pandas as pd\n",
    "from tqdm import tqdm\n",
    "import time"
   ]
  },
  {
   "cell_type": "code",
   "execution_count": 4,
   "id": "f903e5e2",
   "metadata": {},
   "outputs": [],
   "source": [
    "BASE_URL = \"https://remoteok.com\"\n",
    "headers = {\"User-Agent\": \"Mozilla/5.0\"}"
   ]
  },
  {
   "cell_type": "code",
   "execution_count": 5,
   "id": "5f0b308d",
   "metadata": {},
   "outputs": [],
   "source": [
    "def scrape_listing_page():\n",
    "    url = f\"{BASE_URL}/remote-dev-jobs\"\n",
    "    resp = requests.get(url, headers=headers)\n",
    "    soup = BeautifulSoup(resp.content, \"html.parser\")\n",
    "    job_rows = soup.find_all(\"tr\", class_=\"job\")\n",
    "    \n",
    "    job_links = []\n",
    "    for job in job_rows:\n",
    "        job_info = {\n",
    "            \"title\": job.get(\"data-position\"),\n",
    "            \"company\": job.get(\"data-company\"),\n",
    "            \"tags\": job.get(\"data-tags\"),\n",
    "            \"job_url\": BASE_URL + job.get(\"data-url\") if job.get(\"data-url\") else None\n",
    "        }\n",
    "        job_links.append(job_info)\n",
    "    return job_links"
   ]
  },
  {
   "cell_type": "code",
   "execution_count": 6,
   "id": "7e19a89e",
   "metadata": {},
   "outputs": [],
   "source": [
    "def scrape_detail_page(job):\n",
    "    url = job[\"job_url\"]\n",
    "    if not url:\n",
    "        return job\n",
    "\n",
    "    try:\n",
    "        resp = requests.get(url, headers=headers)\n",
    "        soup = BeautifulSoup(resp.content, \"html.parser\")\n",
    "        \n",
    "        # Description\n",
    "        desc_block = soup.find(\"div\", class_=\"description\") or soup.find(\"div\", {\"id\": \"job-description\"})\n",
    "        job[\"description\"] = desc_block.get_text(separator=\" \").strip() if desc_block else None\n",
    "        \n",
    "        # Location, Salary, Experience (from text)\n",
    "        text = job[\"description\"].lower() if job[\"description\"] else \"\"\n",
    "        job[\"location\"] = \"remote\" if \"remote\" in text else \"not specified\"\n",
    "        \n",
    "        for keyword in [\"full-time\", \"part-time\", \"contract\", \"internship\"]:\n",
    "            if keyword in text:\n",
    "                job[\"job_type\"] = keyword\n",
    "                break\n",
    "        else:\n",
    "            job[\"job_type\"] = \"not specified\"\n",
    "        \n",
    "        # Salary (rough guess)\n",
    "        import re\n",
    "        salary_match = re.search(r\"\\$\\d{2,3}[kK]?\", text)\n",
    "        job[\"salary\"] = salary_match.group() if salary_match else None\n",
    "\n",
    "        # Experience\n",
    "        exp_match = re.search(r\"\\d+\\+? ?years?\", text)\n",
    "        job[\"experience_level\"] = exp_match.group() if exp_match else \"not specified\"\n",
    "\n",
    "        # Deadline (heuristic)\n",
    "        if \"apply before\" in text:\n",
    "            job[\"deadline\"] = text.split(\"apply before\")[-1].split(\".\")[0].strip()\n",
    "        else:\n",
    "            job[\"deadline\"] = \"not specified\"\n",
    "        \n",
    "        return job\n",
    "\n",
    "    except Exception as e:\n",
    "        print(f\"Error scraping {url}: {e}\")\n",
    "        return job"
   ]
  },
  {
   "cell_type": "code",
   "execution_count": 7,
   "id": "35a11d9e",
   "metadata": {},
   "outputs": [
    {
     "name": "stdout",
     "output_type": "stream",
     "text": [
      "🔎 Scraping listing page...\n",
      "🔎 Scraping individual job pages...\n"
     ]
    },
    {
     "name": "stderr",
     "output_type": "stream",
     "text": [
      "100%|██████████| 19/19 [00:32<00:00,  1.70s/it]\n"
     ]
    }
   ],
   "source": [
    "# Run both passes\n",
    "print(\"🔎 Scraping listing page...\")\n",
    "jobs_basic = scrape_listing_page()\n",
    "\n",
    "print(\"🔎 Scraping individual job pages...\")\n",
    "jobs_full = []\n",
    "for job in tqdm(jobs_basic):\n",
    "    job_full = scrape_detail_page(job)\n",
    "    jobs_full.append(job_full)\n",
    "    time.sleep(1)  # be nice to the server"
   ]
  },
  {
   "cell_type": "code",
   "execution_count": 12,
   "id": "8548d6c4",
   "metadata": {},
   "outputs": [
    {
     "name": "stdout",
     "output_type": "stream",
     "text": [
      "✅ Done. Saved to 'data/full_jobs_remoteok.csv'\n"
     ]
    }
   ],
   "source": [
    "# Save to CSV\n",
    "df = pd.DataFrame(jobs_full)\n",
    "df.to_csv(\"full_jobs_remoteok.csv\", index=False)\n",
    "print(\"✅ Done. Saved to 'data/full_jobs_remoteok.csv'\")\n"
   ]
  },
  {
   "cell_type": "code",
   "execution_count": 13,
   "id": "6f1f7d7a",
   "metadata": {},
   "outputs": [
    {
     "name": "stdout",
     "output_type": "stream",
     "text": [
      "✅ Fetched 99 jobs\n"
     ]
    }
   ],
   "source": [
    "# scripts/scrape_remoteok_api.py\n",
    "import requests\n",
    "import pandas as pd\n",
    "\n",
    "def scrape_remoteok():\n",
    "    url = \"https://remoteok.com/api\"\n",
    "    headers = {\"User-Agent\": \"Mozilla/5.0\"}\n",
    "    resp = requests.get(url, headers=headers)\n",
    "    data = resp.json()\n",
    "\n",
    "    jobs = []\n",
    "    for job in data:\n",
    "        if job.get(\"company\") and job.get(\"position\"):\n",
    "            jobs.append({\n",
    "                \"title\": job.get(\"position\"),\n",
    "                \"company\": job.get(\"company\"),\n",
    "                \"location\": job.get(\"location\", \"Remote\"),\n",
    "                \"tags\": \",\".join(job.get(\"tags\", [])),\n",
    "                \"date\": job.get(\"date\"),\n",
    "                \"job_url\": f\"https://remoteok.com{job.get('url')}\",\n",
    "                \"description\": job.get(\"description\", \"\").strip()\n",
    "            })\n",
    "    return pd.DataFrame(jobs)\n",
    "\n",
    "if __name__ == \"__main__\":\n",
    "    df = scrape_remoteok()\n",
    "    print(f\"✅ Fetched {len(df)} jobs\")\n",
    "    df.to_csv(\"remoteok_jobs.csv\", index=False)\n"
   ]
  },
  {
   "cell_type": "code",
   "execution_count": 15,
   "id": "7d4c2299",
   "metadata": {},
   "outputs": [
    {
     "name": "stdout",
     "output_type": "stream",
     "text": [
      "✅ Fetched 0 internships\n"
     ]
    }
   ],
   "source": [
    "# scripts/scrape_internshala.py\n",
    "from selenium import webdriver\n",
    "from bs4 import BeautifulSoup\n",
    "import pandas as pd\n",
    "import time\n",
    "\n",
    "def scrape_internshala(query=\"Data Analyst\"):\n",
    "    driver = webdriver.Chrome()\n",
    "    driver.get(f\"https://internshala.com/internships/{query.replace(' ', '-')}-internship\")\n",
    "    time.sleep(5)  # wait for page load\n",
    "\n",
    "    soup = BeautifulSoup(driver.page_source, \"html.parser\")\n",
    "    postings = soup.find_all(\"div\", class_=\"individual_internship\")\n",
    "\n",
    "    jobs = []\n",
    "    for post in postings:\n",
    "        title = post.find(\"h4\").text.strip()\n",
    "        company = post.find(\"div\", class_=\"company_name\").text.strip()\n",
    "        loc = post.find(\"a\", class_=\"location_link\").text.strip()\n",
    "        stipend = post.find(\"span\", class_=\"stipend\").text.strip()\n",
    "        date = post.find(\"div\", class_=\"item_body\").text.strip()\n",
    "\n",
    "        jobs.append({\n",
    "            \"title\": title,\n",
    "            \"company\": company,\n",
    "            \"location\": loc,\n",
    "            \"stipend\": stipend,\n",
    "            \"posted\": date\n",
    "        })\n",
    "\n",
    "    driver.quit()\n",
    "    return pd.DataFrame(jobs)\n",
    "\n",
    "if __name__ == \"__main__\":\n",
    "    df = scrape_internshala(\"python\")\n",
    "    print(f\"✅ Fetched {len(df)} internships\")\n",
    "    df.to_csv(\"internshala_jobs.csv\", index=False)\n"
   ]
  }
 ],
 "metadata": {
  "kernelspec": {
   "display_name": ".venv",
   "language": "python",
   "name": "python3"
  },
  "language_info": {
   "codemirror_mode": {
    "name": "ipython",
    "version": 3
   },
   "file_extension": ".py",
   "mimetype": "text/x-python",
   "name": "python",
   "nbconvert_exporter": "python",
   "pygments_lexer": "ipython3",
   "version": "3.13.1"
  }
 },
 "nbformat": 4,
 "nbformat_minor": 5
}
